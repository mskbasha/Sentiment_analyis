{
  "cells": [
    {
      "cell_type": "markdown",
      "metadata": {
        "id": "view-in-github",
        "colab_type": "text"
      },
      "source": [
        "<a href=\"https://colab.research.google.com/github/mskbasha/Sentiment_analyis/blob/main/sentiment_analysis.ipynb\" target=\"_parent\"><img src=\"https://colab.research.google.com/assets/colab-badge.svg\" alt=\"Open In Colab\"/></a>"
      ]
    },
    {
      "cell_type": "markdown",
      "metadata": {
        "id": "k2l0_FxR27H3"
      },
      "source": [
        "# Libraries"
      ]
    },
    {
      "cell_type": "code",
      "execution_count": null,
      "metadata": {
        "id": "mv4XELgW2zPV"
      },
      "outputs": [],
      "source": [
        "import torch \n",
        "import math\n",
        "import keras \n",
        "import pandas as pd \n",
        "import numpy as np\n",
        "import tensorflow as tf\n",
        "from keras.models import Sequential\n",
        "from sklearn.metrics import f1_score\n",
        "from torch.nn import functional as F\n",
        "from sklearn.model_selection import train_test_split\n",
        "from tensorflow.keras.preprocessing.sequence import pad_sequences\n",
        "from keras.layers import Embedding,Dense,MultiHeadAttention,Input,LayerNormalization,Flatten"
      ]
    },
    {
      "cell_type": "markdown",
      "metadata": {
        "id": "h1c6acG929XE"
      },
      "source": [
        "# Reading Data"
      ]
    },
    {
      "cell_type": "code",
      "execution_count": null,
      "metadata": {
        "colab": {
          "background_save": true,
          "base_uri": "https://localhost:8080/"
        },
        "id": "vKJyvl7UzHnv",
        "outputId": "1cee5030-b514-4cda-f30f-9179b134bac5"
      },
      "outputs": [
        {
          "name": "stdout",
          "output_type": "stream",
          "text": [
            "[                              ] \n",
            " \n",
            "[                              ] \n",
            " \n",
            "[#                             ] \n",
            " \n",
            "[#                             ] \n",
            " \n",
            "[#                             ] \n",
            " \n",
            "[##                            ] \n",
            " \n",
            "[##                            ] \n",
            " \n",
            "[##                            ] \n",
            " \n",
            "[##                            ] \n",
            " \n",
            "[###                           ] \n",
            " \n",
            "[###                           ] \n",
            " \n",
            "[###                           ] \n",
            " \n",
            "[####                          ] \n",
            " \n",
            "[####                          ] \n",
            " \n",
            "[####                          ] \n",
            " \n",
            "[####                          ] \n",
            " \n",
            "[#####                         ] \n",
            " \n",
            "[#####                         ] \n",
            " \n",
            "[#####                         ] \n",
            " \n",
            "[######                        ] \n",
            " \n",
            "[######                        ] \n",
            " \n",
            "[######                        ] \n",
            " \n",
            "[#######                       ] \n",
            " \n",
            "[#######                       ] \n",
            " \n",
            "[#######                       ] \n",
            " \n",
            "[########                      ] \n",
            " \n",
            "[########                      ] \n",
            " \n",
            "[########                      ] \n",
            " \n",
            "[########                      ] \n",
            " \n",
            "[#########                     ] \n",
            " \n",
            "[#########                     ] \n",
            " \n",
            "[#########                     ] \n",
            " \n",
            "[##########                    ] \n",
            " \n",
            "[##########                    ] \n",
            " \n",
            "[##########                    ] \n",
            " \n",
            "[##########                    ] \n",
            " \n",
            "[###########                   ] \n",
            " \n",
            "[###########                   ] \n",
            " \n",
            "[###########                   ] \n",
            " \n",
            "[############                  ] \n",
            " \n",
            "[############                  ] \n",
            " \n",
            "[############                  ] \n",
            " \n",
            "[#############                 ] \n",
            " \n",
            "[#############                 ] \n",
            " \n",
            "[#############                 ] \n",
            " \n",
            "[##############                ] \n",
            " \n",
            "[##############                ] \n",
            " \n",
            "[##############                ] \n",
            " \n",
            "[##############                ] \n",
            " \n",
            "[###############               ] \n",
            " \n",
            "[###############               ] \n",
            " \n",
            "[###############               ] \n",
            " \n",
            "[################              ] \n",
            " \n",
            "[################              ] \n",
            " \n",
            "[################              ] \n",
            " \n",
            "[################              ] \n",
            " \n",
            "[#################             ] \n",
            " \n",
            "[#################             ] \n",
            " \n",
            "[#################             ] \n",
            " \n",
            "[##################            ] \n",
            " \n",
            "[##################            ] \n",
            " \n",
            "[##################            ] \n",
            " \n",
            "[###################           ] \n",
            " \n",
            "[###################           ] \n",
            " \n",
            "[###################           ] \n",
            " \n",
            "[####################          ] \n",
            " \n",
            "[####################          ] \n",
            " \n",
            "[####################          ] \n",
            " \n",
            "[####################          ] \n",
            " \n",
            "[#####################         ] \n",
            " \n",
            "[#####################         ] \n",
            " \n",
            "[#####################         ] \n",
            " \n",
            "[######################        ] \n",
            " \n",
            "[######################        ] \n",
            " \n",
            "[######################        ] \n",
            " \n",
            "[######################        ] \n",
            " \n",
            "[#######################       ] \n",
            " \n",
            "[#######################       ] \n",
            " \n",
            "[#######################       ] \n",
            " \n",
            "[########################      ] \n",
            " \n",
            "[########################      ] \n",
            " \n",
            "[########################      ] \n",
            " \n",
            "[#########################     ] \n",
            " \n",
            "[#########################     ] \n",
            " \n",
            "[#########################     ] \n",
            " \n",
            "[##########################    ] \n",
            " \n",
            "[##########################    ] \n",
            " \n",
            "[##########################    ] \n",
            " \n",
            "[##########################    ] \n",
            " \n",
            "[###########################   ] \n",
            " \n",
            "[###########################   ] \n",
            " \n",
            "[###########################   ] \n",
            " \n",
            "[############################  ] \n",
            " \n",
            "[############################  ] \n",
            " \n",
            "[############################  ] \n",
            " \n",
            "[############################  ] \n",
            " \n",
            "[############################# ] \n",
            " \n",
            "[############################# ] \n",
            " \n",
            "[############################# ] \n",
            " \n",
            "[##############################] \n",
            " \n"
          ]
        }
      ],
      "source": [
        "from progressbar import progressbar\n",
        "import time \n",
        "pb = progressbar(0.1,30,'#','')\n",
        "for i in range(100):\n",
        "    time.sleep(0.1)\n",
        "    pb.print(i,100,error =i**2 )"
      ]
    },
    {
      "cell_type": "code",
      "execution_count": null,
      "metadata": {
        "colab": {
          "background_save": true
        },
        "id": "KsSFsHvECMws"
      },
      "outputs": [],
      "source": [
        "from zipfile import ZipFile\n",
        "with ZipFile(\"/content/drive/MyDrive/Chrome OS/Coding data/archive.zip\",'r') as f:\n",
        "    f.extractall()"
      ]
    },
    {
      "cell_type": "code",
      "execution_count": null,
      "metadata": {
        "colab": {
          "background_save": true
        },
        "id": "8QOklH1C85Jt"
      },
      "outputs": [],
      "source": [
        "data = pd.read_csv(\"/content/train.csv\",encoding='ISO-8859-1')"
      ]
    },
    {
      "cell_type": "code",
      "execution_count": null,
      "metadata": {
        "colab": {
          "background_save": true
        },
        "id": "awy78rTM9Dm1",
        "outputId": "67f6ff54-0d3b-4537-9b7e-ac34271b5820"
      },
      "outputs": [
        {
          "data": {
            "text/html": [
              "\n",
              "  <div id=\"df-d187cbd4-16a1-4291-ad3c-b9553ef3ca4b\">\n",
              "    <div class=\"colab-df-container\">\n",
              "      <div>\n",
              "<style scoped>\n",
              "    .dataframe tbody tr th:only-of-type {\n",
              "        vertical-align: middle;\n",
              "    }\n",
              "\n",
              "    .dataframe tbody tr th {\n",
              "        vertical-align: top;\n",
              "    }\n",
              "\n",
              "    .dataframe thead th {\n",
              "        text-align: right;\n",
              "    }\n",
              "</style>\n",
              "<table border=\"1\" class=\"dataframe\">\n",
              "  <thead>\n",
              "    <tr style=\"text-align: right;\">\n",
              "      <th></th>\n",
              "      <th>textID</th>\n",
              "      <th>text</th>\n",
              "      <th>selected_text</th>\n",
              "      <th>sentiment</th>\n",
              "      <th>Time of Tweet</th>\n",
              "      <th>Age of User</th>\n",
              "      <th>Country</th>\n",
              "      <th>Population -2020</th>\n",
              "      <th>Land Area (Km²)</th>\n",
              "      <th>Density (P/Km²)</th>\n",
              "    </tr>\n",
              "  </thead>\n",
              "  <tbody>\n",
              "    <tr>\n",
              "      <th>0</th>\n",
              "      <td>cb774db0d1</td>\n",
              "      <td>I`d have responded, if I were going</td>\n",
              "      <td>I`d have responded, if I were going</td>\n",
              "      <td>neutral</td>\n",
              "      <td>morning</td>\n",
              "      <td>0-20</td>\n",
              "      <td>Afghanistan</td>\n",
              "      <td>38928346</td>\n",
              "      <td>652860.0</td>\n",
              "      <td>60</td>\n",
              "    </tr>\n",
              "    <tr>\n",
              "      <th>1</th>\n",
              "      <td>549e992a42</td>\n",
              "      <td>Sooo SAD I will miss you here in San Diego!!!</td>\n",
              "      <td>Sooo SAD</td>\n",
              "      <td>negative</td>\n",
              "      <td>noon</td>\n",
              "      <td>21-30</td>\n",
              "      <td>Albania</td>\n",
              "      <td>2877797</td>\n",
              "      <td>27400.0</td>\n",
              "      <td>105</td>\n",
              "    </tr>\n",
              "    <tr>\n",
              "      <th>2</th>\n",
              "      <td>088c60f138</td>\n",
              "      <td>my boss is bullying me...</td>\n",
              "      <td>bullying me</td>\n",
              "      <td>negative</td>\n",
              "      <td>night</td>\n",
              "      <td>31-45</td>\n",
              "      <td>Algeria</td>\n",
              "      <td>43851044</td>\n",
              "      <td>2381740.0</td>\n",
              "      <td>18</td>\n",
              "    </tr>\n",
              "    <tr>\n",
              "      <th>3</th>\n",
              "      <td>9642c003ef</td>\n",
              "      <td>what interview! leave me alone</td>\n",
              "      <td>leave me alone</td>\n",
              "      <td>negative</td>\n",
              "      <td>morning</td>\n",
              "      <td>46-60</td>\n",
              "      <td>Andorra</td>\n",
              "      <td>77265</td>\n",
              "      <td>470.0</td>\n",
              "      <td>164</td>\n",
              "    </tr>\n",
              "  </tbody>\n",
              "</table>\n",
              "</div>\n",
              "      <button class=\"colab-df-convert\" onclick=\"convertToInteractive('df-d187cbd4-16a1-4291-ad3c-b9553ef3ca4b')\"\n",
              "              title=\"Convert this dataframe to an interactive table.\"\n",
              "              style=\"display:none;\">\n",
              "        \n",
              "  <svg xmlns=\"http://www.w3.org/2000/svg\" height=\"24px\"viewBox=\"0 0 24 24\"\n",
              "       width=\"24px\">\n",
              "    <path d=\"M0 0h24v24H0V0z\" fill=\"none\"/>\n",
              "    <path d=\"M18.56 5.44l.94 2.06.94-2.06 2.06-.94-2.06-.94-.94-2.06-.94 2.06-2.06.94zm-11 1L8.5 8.5l.94-2.06 2.06-.94-2.06-.94L8.5 2.5l-.94 2.06-2.06.94zm10 10l.94 2.06.94-2.06 2.06-.94-2.06-.94-.94-2.06-.94 2.06-2.06.94z\"/><path d=\"M17.41 7.96l-1.37-1.37c-.4-.4-.92-.59-1.43-.59-.52 0-1.04.2-1.43.59L10.3 9.45l-7.72 7.72c-.78.78-.78 2.05 0 2.83L4 21.41c.39.39.9.59 1.41.59.51 0 1.02-.2 1.41-.59l7.78-7.78 2.81-2.81c.8-.78.8-2.07 0-2.86zM5.41 20L4 18.59l7.72-7.72 1.47 1.35L5.41 20z\"/>\n",
              "  </svg>\n",
              "      </button>\n",
              "      \n",
              "  <style>\n",
              "    .colab-df-container {\n",
              "      display:flex;\n",
              "      flex-wrap:wrap;\n",
              "      gap: 12px;\n",
              "    }\n",
              "\n",
              "    .colab-df-convert {\n",
              "      background-color: #E8F0FE;\n",
              "      border: none;\n",
              "      border-radius: 50%;\n",
              "      cursor: pointer;\n",
              "      display: none;\n",
              "      fill: #1967D2;\n",
              "      height: 32px;\n",
              "      padding: 0 0 0 0;\n",
              "      width: 32px;\n",
              "    }\n",
              "\n",
              "    .colab-df-convert:hover {\n",
              "      background-color: #E2EBFA;\n",
              "      box-shadow: 0px 1px 2px rgba(60, 64, 67, 0.3), 0px 1px 3px 1px rgba(60, 64, 67, 0.15);\n",
              "      fill: #174EA6;\n",
              "    }\n",
              "\n",
              "    [theme=dark] .colab-df-convert {\n",
              "      background-color: #3B4455;\n",
              "      fill: #D2E3FC;\n",
              "    }\n",
              "\n",
              "    [theme=dark] .colab-df-convert:hover {\n",
              "      background-color: #434B5C;\n",
              "      box-shadow: 0px 1px 3px 1px rgba(0, 0, 0, 0.15);\n",
              "      filter: drop-shadow(0px 1px 2px rgba(0, 0, 0, 0.3));\n",
              "      fill: #FFFFFF;\n",
              "    }\n",
              "  </style>\n",
              "\n",
              "      <script>\n",
              "        const buttonEl =\n",
              "          document.querySelector('#df-d187cbd4-16a1-4291-ad3c-b9553ef3ca4b button.colab-df-convert');\n",
              "        buttonEl.style.display =\n",
              "          google.colab.kernel.accessAllowed ? 'block' : 'none';\n",
              "\n",
              "        async function convertToInteractive(key) {\n",
              "          const element = document.querySelector('#df-d187cbd4-16a1-4291-ad3c-b9553ef3ca4b');\n",
              "          const dataTable =\n",
              "            await google.colab.kernel.invokeFunction('convertToInteractive',\n",
              "                                                     [key], {});\n",
              "          if (!dataTable) return;\n",
              "\n",
              "          const docLinkHtml = 'Like what you see? Visit the ' +\n",
              "            '<a target=\"_blank\" href=https://colab.research.google.com/notebooks/data_table.ipynb>data table notebook</a>'\n",
              "            + ' to learn more about interactive tables.';\n",
              "          element.innerHTML = '';\n",
              "          dataTable['output_type'] = 'display_data';\n",
              "          await google.colab.output.renderOutput(dataTable, element);\n",
              "          const docLink = document.createElement('div');\n",
              "          docLink.innerHTML = docLinkHtml;\n",
              "          element.appendChild(docLink);\n",
              "        }\n",
              "      </script>\n",
              "    </div>\n",
              "  </div>\n",
              "  "
            ],
            "text/plain": [
              "       textID                                            text  \\\n",
              "0  cb774db0d1             I`d have responded, if I were going   \n",
              "1  549e992a42   Sooo SAD I will miss you here in San Diego!!!   \n",
              "2  088c60f138                       my boss is bullying me...   \n",
              "3  9642c003ef                  what interview! leave me alone   \n",
              "\n",
              "                         selected_text sentiment Time of Tweet Age of User  \\\n",
              "0  I`d have responded, if I were going   neutral       morning        0-20   \n",
              "1                             Sooo SAD  negative          noon       21-30   \n",
              "2                          bullying me  negative         night       31-45   \n",
              "3                       leave me alone  negative       morning       46-60   \n",
              "\n",
              "       Country  Population -2020  Land Area (Km²)  Density (P/Km²)  \n",
              "0  Afghanistan          38928346         652860.0               60  \n",
              "1      Albania           2877797          27400.0              105  \n",
              "2      Algeria          43851044        2381740.0               18  \n",
              "3      Andorra             77265            470.0              164  "
            ]
          },
          "execution_count": 5,
          "metadata": {},
          "output_type": "execute_result"
        }
      ],
      "source": [
        "data.head(4)"
      ]
    },
    {
      "cell_type": "code",
      "execution_count": null,
      "metadata": {
        "colab": {
          "background_save": true
        },
        "id": "eMr0UMpMxA4s"
      },
      "outputs": [],
      "source": [
        "data = data.dropna()"
      ]
    },
    {
      "cell_type": "code",
      "execution_count": null,
      "metadata": {
        "colab": {
          "background_save": true
        },
        "id": "5naE9HPlw0Q9"
      },
      "outputs": [],
      "source": [
        "unique_chars = set(' '.join(data.text.dropna()))"
      ]
    },
    {
      "cell_type": "code",
      "execution_count": null,
      "metadata": {
        "colab": {
          "background_save": true
        },
        "id": "kuiLYhQhy9vG",
        "outputId": "24535ef6-b599-4a7a-857f-c42598067104"
      },
      "outputs": [
        {
          "data": {
            "text/plain": [
              "<Axes: ylabel='Frequency'>"
            ]
          },
          "execution_count": 8,
          "metadata": {},
          "output_type": "execute_result"
        },
        {
          "data": {
            "image/png": "[encoded data removed]",
            "text/plain": [
              "<Figure size 640x480 with 1 Axes>"
            ]
          },
          "metadata": {},
          "output_type": "display_data"
        }
      ],
      "source": [
        "data.text.apply(lambda x:len(x)).plot.hist()"
      ]
    },
    {
      "cell_type": "code",
      "execution_count": null,
      "metadata": {
        "colab": {
          "background_save": true
        },
        "id": "TUsIP4iOzQxq"
      },
      "outputs": [],
      "source": [
        "chars = {char:ind+1 for ind,char in enumerate(unique_chars)}\n",
        "index = {ind+1:char for ind,char in enumerate(unique_chars)}\n",
        "\n",
        "data['embeddings'] = data.text.fillna('').apply(lambda x:[chars[i] for i in x])"
      ]
    },
    {
      "cell_type": "code",
      "execution_count": null,
      "metadata": {
        "colab": {
          "background_save": true
        },
        "id": "sTWdIlq2xLPz"
      },
      "outputs": [],
      "source": [
        "padded_sequences = pad_sequences(data['embeddings'], maxlen=100, padding='post', truncating='post')"
      ]
    },
    {
      "cell_type": "code",
      "execution_count": null,
      "metadata": {
        "colab": {
          "background_save": true
        },
        "id": "--iuvjxH0Dr7",
        "outputId": "64b6c22e-da14-4a73-8b4c-4968d520b6df"
      },
      "outputs": [
        {
          "data": {
            "text/plain": [
              "(27480, 100)"
            ]
          },
          "execution_count": 11,
          "metadata": {},
          "output_type": "execute_result"
        }
      ],
      "source": [
        "padded_sequences.shape"
      ]
    },
    {
      "cell_type": "code",
      "execution_count": null,
      "metadata": {
        "colab": {
          "background_save": true
        },
        "id": "ROc29oOQ0LSs",
        "outputId": "9a9a4f11-fcbe-410b-f82e-2237056c57fe"
      },
      "outputs": [
        {
          "data": {
            "text/plain": [
              "((27480, 100), (27480,))"
            ]
          },
          "execution_count": 12,
          "metadata": {},
          "output_type": "execute_result"
        },
        {
          "data": {
            "image/png": "[encoded data removed]",
            "text/plain": [
              "<Figure size 400x200 with 1 Axes>"
            ]
          },
          "metadata": {},
          "output_type": "display_data"
        }
      ],
      "source": [
        "data.sentiment.value_counts().plot.barh(figsize = (4,2))\n",
        "padded_sequences.shape,data.sentiment.shape"
      ]
    },
    {
      "cell_type": "code",
      "execution_count": null,
      "metadata": {
        "colab": {
          "background_save": true
        },
        "id": "E4WgPA2v0mLc"
      },
      "outputs": [],
      "source": [
        "y = pd.get_dummies(data.sentiment)\n",
        "x = padded_sequences\n",
        "x_train,x_test,y_train,y_test = train_test_split(x,y,test_size=0.25)"
      ]
    },
    {
      "cell_type": "code",
      "execution_count": null,
      "metadata": {
        "colab": {
          "background_save": true
        },
        "id": "aJrq-_Bw1L1Q",
        "outputId": "28005228-2787-4754-da14-c08c04eb14f1"
      },
      "outputs": [
        {
          "data": {
            "text/plain": [
              "((27480, 100), (27480, 3))"
            ]
          },
          "execution_count": 14,
          "metadata": {},
          "output_type": "execute_result"
        }
      ],
      "source": [
        "x.shape,y.shape"
      ]
    },
    {
      "cell_type": "code",
      "execution_count": null,
      "metadata": {
        "colab": {
          "background_save": true
        },
        "id": "oeU-KRQ-HxCL",
        "outputId": "3c46ea1c-2f2d-47f2-c392-4cca4577f984"
      },
      "outputs": [
        {
          "data": {
            "text/plain": [
              "103"
            ]
          },
          "execution_count": 15,
          "metadata": {},
          "output_type": "execute_result"
        }
      ],
      "source": [
        "len(unique_chars)"
      ]
    },
    {
      "cell_type": "code",
      "execution_count": null,
      "metadata": {
        "colab": {
          "background_save": true
        },
        "id": "CbUrnd_cDRZ7"
      },
      "outputs": [],
      "source": [
        "!pip install keras_nlp --quiet"
      ]
    },
    {
      "cell_type": "code",
      "execution_count": null,
      "metadata": {
        "colab": {
          "base_uri": "https://localhost:8080/"
        },
        "id": "g-7cGxPKXL5I",
        "outputId": "e3a9d8d7-32e6-4631-b909-caefea64028a"
      },
      "outputs": [
        {
          "data": {
            "text/plain": [
              "(20610, 100)"
            ]
          },
          "execution_count": 23,
          "metadata": {},
          "output_type": "execute_result"
        }
      ],
      "source": [
        "x_train.shape"
      ]
    },
    {
      "cell_type": "code",
      "execution_count": null,
      "metadata": {
        "id": "Tl235cP-1Yu0"
      },
      "outputs": [],
      "source": [
        "from tensorflow import keras\n",
        "from tensorflow.keras.layers import Input, Embedding, Dense, MultiHeadAttention, LayerNormalization, Flatten,GlobalMaxPooling1D\n",
        "import keras_nlp\n",
        "text_size = 100\n",
        "embedding_size = 500\n",
        "inputlayer = Input(shape=(text_size,))\n",
        "output = Embedding(len(unique_chars) + 1, embedding_size, mask_zero=True)(inputlayer)\n",
        "output = keras_nlp.layers.PositionEmbedding(\n",
        "    embedding_size, initializer=\"glorot_uniform\"\n",
        ")(output)\n",
        "for i in range(50):\n",
        "  output = keras_nlp.layers.TransformerEncoder(\n",
        "      intermediate_dim=1000, num_heads=8)(output)\n",
        "output = GlobalMaxPooling1D()(output) \n",
        "output = Dense(3,activation='softmax')(output)\n",
        "\n",
        "model = keras.models.Model(inputs=inputlayer, outputs=output)\n",
        "model.compile(loss='categorical_crossentropy', optimizer='adam', metrics=['accuracy'])\n",
        "model.summary()"
      ]
    },
    {
      "cell_type": "code",
      "execution_count": null,
      "metadata": {
        "id": "u_Vt_EODcdg2"
      },
      "outputs": [],
      "source": [
        "model.fit(x_train,y_train,epochs=10)"
      ]
    },
    {
      "cell_type": "code",
      "execution_count": null,
      "metadata": {
        "colab": {
          "base_uri": "https://localhost:8080/"
        },
        "id": "VFi8u5KOHwaz",
        "outputId": "d3367bc9-a49c-4a5f-a658-204db04e1bbe"
      },
      "outputs": [
        {
          "data": {
            "text/plain": [
              "array([[0, 1, 0],\n",
              "       [0, 0, 1],\n",
              "       [1, 0, 0],\n",
              "       ...,\n",
              "       [0, 1, 0],\n",
              "       [0, 0, 1],\n",
              "       [0, 1, 0]], dtype=uint8)"
            ]
          },
          "execution_count": 31,
          "metadata": {},
          "output_type": "execute_result"
        }
      ],
      "source": [
        "np.argmax(y_test.values,axis=1)"
      ]
    },
    {
      "cell_type": "code",
      "execution_count": null,
      "metadata": {
        "colab": {
          "base_uri": "https://localhost:8080/"
        },
        "id": "ioAJYRvfHfp3",
        "outputId": "fe446c71-77d8-4121-d2de-fa900a5f32c4"
      },
      "outputs": [
        {
          "name": "stdout",
          "output_type": "stream",
          "text": [
            "215/215 [==============================] - 6s 30ms/step\n"
          ]
        },
        {
          "data": {
            "text/plain": [
              "0.18933472294597883"
            ]
          },
          "execution_count": 32,
          "metadata": {},
          "output_type": "execute_result"
        }
      ],
      "source": [
        "y_pred = np.argmax(model.predict(x_test),axis=1)\n",
        "f1_score(y_pred,np.argmax(y_test.values,axis=1),average='macro')"
      ]
    },
    {
      "cell_type": "code",
      "execution_count": null,
      "metadata": {
        "id": "hiLutKZXQQE1"
      },
      "outputs": [],
      "source": [
        "dx_train = torch.tensor(x_train)\n",
        "y_train = torch.tensor(y_train.to_numpy())\n",
        "y_train = torch.argmax(y_train,axis=1)"
      ]
    },
    {
      "cell_type": "code",
      "execution_count": null,
      "metadata": {
        "id": "Mo1SLgJFzX0r"
      },
      "outputs": [],
      "source": [
        "x_test = torch.tensor(x_test)\n",
        "y_test = torch.tensor(y_test.to_numpy())\n",
        "y_test = torch.argmax(y_test,axis=1)"
      ]
    },
    {
      "cell_type": "code",
      "execution_count": null,
      "metadata": {
        "id": "cGP7TVGDV10i"
      },
      "outputs": [],
      "source": [
        "class PositionalEncoding(torch.nn.Module):\n",
        "\n",
        "    def __init__(self, d_model: int, dropout: float = 0.1, max_len: int = 5000):\n",
        "        super().__init__()\n",
        "        self.dropout = torch.nn.Dropout(p=dropout)\n",
        "\n",
        "        position = torch.arange(max_len).unsqueeze(1)\n",
        "        div_term = torch.exp(torch.arange(0, d_model, 2) * (-math.log(10000.0) / d_model))\n",
        "        pe = torch.zeros(max_len, 1, d_model)\n",
        "        pe[:, 0, 0::2] = torch.sin(position * div_term)\n",
        "        pe[:, 0, 1::2] = torch.cos(position * div_term)\n",
        "        self.register_buffer('pe', pe)\n",
        "\n",
        "    def forward(self, x):\n",
        "        \"\"\"\n",
        "        Arguments:\n",
        "            x: Tensor, shape ``[seq_len, batch_size, embedding_dim]``\n",
        "        \"\"\"\n",
        "        x = x + self.pe[:x.size(0)]\n",
        "        return self.dropout(x)\n",
        "class EncoderBlock(torch.nn.Module):\n",
        "    def __init__(self,no_heads,seq_length,Embedding_dim):\n",
        "        super().__init__()\n",
        "        assert Embedding_dim%no_heads ==0\n",
        "        self.FF = torch.nn.Linear(Embedding_dim,Embedding_dim,bias = False)\n",
        "        self.MHA = torch.nn.MultiheadAttention(Embedding_dim,no_heads,dropout=0.01,batch_first=True)\n",
        "        self.ffn = torch.nn.Sequential(\n",
        "            torch.nn.Linear(Embedding_dim, int(1.5*Embedding_dim)),\n",
        "            torch.nn.ReLU(inplace=False),\n",
        "            torch.nn.Linear(int(1.5*Embedding_dim), Embedding_dim)\n",
        "        )\n",
        "        self.normE = torch.nn.LayerNorm(Embedding_dim)\n",
        "        self.normF = torch.nn.LayerNorm(Embedding_dim)\n",
        "        self.PE = PositionalEncoding(Embedding_dim)\n",
        "    def forward(self,x,key_padding_mask=None,attn_mask=None):\n",
        "        x = self.PE(x.permute(1,0,2))\n",
        "        x = x.permute(1,0,2)\n",
        "        q = self.FF(x)\n",
        "        k = self.FF(x)\n",
        "        v = self.FF(x)\n",
        "        output = self.MHA(q,k,v,key_padding_mask,attn_mask)[0]+x\n",
        "        output1 = self.normE(output)\n",
        "        output = self.ffn(output1)\n",
        "        output = output+output1\n",
        "        output = self.normF(output)\n",
        "        return output\n",
        "class Encoder(torch.nn.Module):\n",
        "    def __init__(self,no_blocks,no_heads,seq_length,Embedding_dim,unique_chars):\n",
        "        super().__init__()\n",
        "        self.Emb = torch.nn.Embedding(len(unique_chars)+1,embedding_dim=Embedding_dim,padding_idx=0)\n",
        "        self.blocks = torch.nn.ModuleList([EncoderBlock(no_heads,seq_length,Embedding_dim) for _ in range(no_blocks)])\n",
        "        self.Flatten = torch.nn.Flatten()\n",
        "        self.linear = torch.nn.Linear(Embedding_dim*seq_length,3,bias=True)\n",
        "    def forward(self,x):\n",
        "        mask = (x==0)\n",
        "        x = self.Emb(x)\n",
        "        for block in self.blocks:\n",
        "            x = block(x,mask)\n",
        "        x = self.Flatten(x)\n",
        "        return self.linear(x)\n",
        "model = Encoder(30,10,100,130,unique_chars)"
      ]
    },
    {
      "cell_type": "code",
      "execution_count": null,
      "metadata": {
        "colab": {
          "base_uri": "https://localhost:8080/"
        },
        "id": "8FUwbjUEvXKU",
        "outputId": "d3ec5e93-cf06-4eb1-e8f8-e6efa990a3d1"
      },
      "outputs": [
        {
          "data": {
            "text/plain": [
              "torch.Size([20610, 100])"
            ]
          },
          "execution_count": 49,
          "metadata": {},
          "output_type": "execute_result"
        }
      ],
      "source": [
        "x_train.shape"
      ]
    },
    {
      "cell_type": "code",
      "execution_count": null,
      "metadata": {
        "colab": {
          "base_uri": "https://localhost:8080/"
        },
        "id": "3gBrIpwvNPdM",
        "outputId": "088c739a-bb0e-4104-c7ea-7c886d06b5ad"
      },
      "outputs": [
        {
          "name": "stdout",
          "output_type": "stream",
          "text": [
            "+-------------------------------+------------+\n",
            "|            Modules            | Parameters |\n",
            "+-------------------------------+------------+\n",
            "|           Emb.weight          |   13520    |\n",
            "|       blocks.0.FF.weight      |   16900    |\n",
            "|  blocks.0.MHA.in_proj_weight  |   50700    |\n",
            "|   blocks.0.MHA.in_proj_bias   |    390     |\n",
            "|  blocks.0.MHA.out_proj.weight |   16900    |\n",
            "|   blocks.0.MHA.out_proj.bias  |    130     |\n",
            "|     blocks.0.ffn.0.weight     |   25350    |\n",
            "|      blocks.0.ffn.0.bias      |    195     |\n",
            "|     blocks.0.ffn.2.weight     |   25350    |\n",
            "|      blocks.0.ffn.2.bias      |    130     |\n",
            "|     blocks.0.normE.weight     |    130     |\n",
            "|      blocks.0.normE.bias      |    130     |\n",
            "|     blocks.0.normF.weight     |    130     |\n",
            "|      blocks.0.normF.bias      |    130     |\n",
            "|       blocks.1.FF.weight      |   16900    |\n",
            "|  blocks.1.MHA.in_proj_weight  |   50700    |\n",
            "|   blocks.1.MHA.in_proj_bias   |    390     |\n",
            "|  blocks.1.MHA.out_proj.weight |   16900    |\n",
            "|   blocks.1.MHA.out_proj.bias  |    130     |\n",
            "|     blocks.1.ffn.0.weight     |   25350    |\n",
            "|      blocks.1.ffn.0.bias      |    195     |\n",
            "|     blocks.1.ffn.2.weight     |   25350    |\n",
            "|      blocks.1.ffn.2.bias      |    130     |\n",
            "|     blocks.1.normE.weight     |    130     |\n",
            "|      blocks.1.normE.bias      |    130     |\n",
            "|     blocks.1.normF.weight     |    130     |\n",
            "|      blocks.1.normF.bias      |    130     |\n",
            "|       blocks.2.FF.weight      |   16900    |\n",
            "|  blocks.2.MHA.in_proj_weight  |   50700    |\n",
            "|   blocks.2.MHA.in_proj_bias   |    390     |\n",
            "|  blocks.2.MHA.out_proj.weight |   16900    |\n",
            "|   blocks.2.MHA.out_proj.bias  |    130     |\n",
            "|     blocks.2.ffn.0.weight     |   25350    |\n",
            "|      blocks.2.ffn.0.bias      |    195     |\n",
            "|     blocks.2.ffn.2.weight     |   25350    |\n",
            "|      blocks.2.ffn.2.bias      |    130     |\n",
            "|     blocks.2.normE.weight     |    130     |\n",
            "|      blocks.2.normE.bias      |    130     |\n",
            "|     blocks.2.normF.weight     |    130     |\n",
            "|      blocks.2.normF.bias      |    130     |\n",
            "|       blocks.3.FF.weight      |   16900    |\n",
            "|  blocks.3.MHA.in_proj_weight  |   50700    |\n",
            "|   blocks.3.MHA.in_proj_bias   |    390     |\n",
            "|  blocks.3.MHA.out_proj.weight |   16900    |\n",
            "|   blocks.3.MHA.out_proj.bias  |    130     |\n",
            "|     blocks.3.ffn.0.weight     |   25350    |\n",
            "|      blocks.3.ffn.0.bias      |    195     |\n",
            "|     blocks.3.ffn.2.weight     |   25350    |\n",
            "|      blocks.3.ffn.2.bias      |    130     |\n",
            "|     blocks.3.normE.weight     |    130     |\n",
            "|      blocks.3.normE.bias      |    130     |\n",
            "|     blocks.3.normF.weight     |    130     |\n",
            "|      blocks.3.normF.bias      |    130     |\n",
            "|       blocks.4.FF.weight      |   16900    |\n",
            "|  blocks.4.MHA.in_proj_weight  |   50700    |\n",
            "|   blocks.4.MHA.in_proj_bias   |    390     |\n",
            "|  blocks.4.MHA.out_proj.weight |   16900    |\n",
            "|   blocks.4.MHA.out_proj.bias  |    130     |\n",
            "|     blocks.4.ffn.0.weight     |   25350    |\n",
            "|      blocks.4.ffn.0.bias      |    195     |\n",
            "|     blocks.4.ffn.2.weight     |   25350    |\n",
            "|      blocks.4.ffn.2.bias      |    130     |\n",
            "|     blocks.4.normE.weight     |    130     |\n",
            "|      blocks.4.normE.bias      |    130     |\n",
            "|     blocks.4.normF.weight     |    130     |\n",
            "|      blocks.4.normF.bias      |    130     |\n",
            "|       blocks.5.FF.weight      |   16900    |\n",
            "|  blocks.5.MHA.in_proj_weight  |   50700    |\n",
            "|   blocks.5.MHA.in_proj_bias   |    390     |\n",
            "|  blocks.5.MHA.out_proj.weight |   16900    |\n",
            "|   blocks.5.MHA.out_proj.bias  |    130     |\n",
            "|     blocks.5.ffn.0.weight     |   25350    |\n",
            "|      blocks.5.ffn.0.bias      |    195     |\n",
            "|     blocks.5.ffn.2.weight     |   25350    |\n",
            "|      blocks.5.ffn.2.bias      |    130     |\n",
            "|     blocks.5.normE.weight     |    130     |\n",
            "|      blocks.5.normE.bias      |    130     |\n",
            "|     blocks.5.normF.weight     |    130     |\n",
            "|      blocks.5.normF.bias      |    130     |\n",
            "|       blocks.6.FF.weight      |   16900    |\n",
            "|  blocks.6.MHA.in_proj_weight  |   50700    |\n",
            "|   blocks.6.MHA.in_proj_bias   |    390     |\n",
            "|  blocks.6.MHA.out_proj.weight |   16900    |\n",
            "|   blocks.6.MHA.out_proj.bias  |    130     |\n",
            "|     blocks.6.ffn.0.weight     |   25350    |\n",
            "|      blocks.6.ffn.0.bias      |    195     |\n",
            "|     blocks.6.ffn.2.weight     |   25350    |\n",
            "|      blocks.6.ffn.2.bias      |    130     |\n",
            "|     blocks.6.normE.weight     |    130     |\n",
            "|      blocks.6.normE.bias      |    130     |\n",
            "|     blocks.6.normF.weight     |    130     |\n",
            "|      blocks.6.normF.bias      |    130     |\n",
            "|       blocks.7.FF.weight      |   16900    |\n",
            "|  blocks.7.MHA.in_proj_weight  |   50700    |\n",
            "|   blocks.7.MHA.in_proj_bias   |    390     |\n",
            "|  blocks.7.MHA.out_proj.weight |   16900    |\n",
            "|   blocks.7.MHA.out_proj.bias  |    130     |\n",
            "|     blocks.7.ffn.0.weight     |   25350    |\n",
            "|      blocks.7.ffn.0.bias      |    195     |\n",
            "|     blocks.7.ffn.2.weight     |   25350    |\n",
            "|      blocks.7.ffn.2.bias      |    130     |\n",
            "|     blocks.7.normE.weight     |    130     |\n",
            "|      blocks.7.normE.bias      |    130     |\n",
            "|     blocks.7.normF.weight     |    130     |\n",
            "|      blocks.7.normF.bias      |    130     |\n",
            "|       blocks.8.FF.weight      |   16900    |\n",
            "|  blocks.8.MHA.in_proj_weight  |   50700    |\n",
            "|   blocks.8.MHA.in_proj_bias   |    390     |\n",
            "|  blocks.8.MHA.out_proj.weight |   16900    |\n",
            "|   blocks.8.MHA.out_proj.bias  |    130     |\n",
            "|     blocks.8.ffn.0.weight     |   25350    |\n",
            "|      blocks.8.ffn.0.bias      |    195     |\n",
            "|     blocks.8.ffn.2.weight     |   25350    |\n",
            "|      blocks.8.ffn.2.bias      |    130     |\n",
            "|     blocks.8.normE.weight     |    130     |\n",
            "|      blocks.8.normE.bias      |    130     |\n",
            "|     blocks.8.normF.weight     |    130     |\n",
            "|      blocks.8.normF.bias      |    130     |\n",
            "|       blocks.9.FF.weight      |   16900    |\n",
            "|  blocks.9.MHA.in_proj_weight  |   50700    |\n",
            "|   blocks.9.MHA.in_proj_bias   |    390     |\n",
            "|  blocks.9.MHA.out_proj.weight |   16900    |\n",
            "|   blocks.9.MHA.out_proj.bias  |    130     |\n",
            "|     blocks.9.ffn.0.weight     |   25350    |\n",
            "|      blocks.9.ffn.0.bias      |    195     |\n",
            "|     blocks.9.ffn.2.weight     |   25350    |\n",
            "|      blocks.9.ffn.2.bias      |    130     |\n",
            "|     blocks.9.normE.weight     |    130     |\n",
            "|      blocks.9.normE.bias      |    130     |\n",
            "|     blocks.9.normF.weight     |    130     |\n",
            "|      blocks.9.normF.bias      |    130     |\n",
            "|      blocks.10.FF.weight      |   16900    |\n",
            "|  blocks.10.MHA.in_proj_weight |   50700    |\n",
            "|   blocks.10.MHA.in_proj_bias  |    390     |\n",
            "| blocks.10.MHA.out_proj.weight |   16900    |\n",
            "|  blocks.10.MHA.out_proj.bias  |    130     |\n",
            "|     blocks.10.ffn.0.weight    |   25350    |\n",
            "|      blocks.10.ffn.0.bias     |    195     |\n",
            "|     blocks.10.ffn.2.weight    |   25350    |\n",
            "|      blocks.10.ffn.2.bias     |    130     |\n",
            "|     blocks.10.normE.weight    |    130     |\n",
            "|      blocks.10.normE.bias     |    130     |\n",
            "|     blocks.10.normF.weight    |    130     |\n",
            "|      blocks.10.normF.bias     |    130     |\n",
            "|      blocks.11.FF.weight      |   16900    |\n",
            "|  blocks.11.MHA.in_proj_weight |   50700    |\n",
            "|   blocks.11.MHA.in_proj_bias  |    390     |\n",
            "| blocks.11.MHA.out_proj.weight |   16900    |\n",
            "|  blocks.11.MHA.out_proj.bias  |    130     |\n",
            "|     blocks.11.ffn.0.weight    |   25350    |\n",
            "|      blocks.11.ffn.0.bias     |    195     |\n",
            "|     blocks.11.ffn.2.weight    |   25350    |\n",
            "|      blocks.11.ffn.2.bias     |    130     |\n",
            "|     blocks.11.normE.weight    |    130     |\n",
            "|      blocks.11.normE.bias     |    130     |\n",
            "|     blocks.11.normF.weight    |    130     |\n",
            "|      blocks.11.normF.bias     |    130     |\n",
            "|      blocks.12.FF.weight      |   16900    |\n",
            "|  blocks.12.MHA.in_proj_weight |   50700    |\n",
            "|   blocks.12.MHA.in_proj_bias  |    390     |\n",
            "| blocks.12.MHA.out_proj.weight |   16900    |\n",
            "|  blocks.12.MHA.out_proj.bias  |    130     |\n",
            "|     blocks.12.ffn.0.weight    |   25350    |\n",
            "|      blocks.12.ffn.0.bias     |    195     |\n",
            "|     blocks.12.ffn.2.weight    |   25350    |\n",
            "|      blocks.12.ffn.2.bias     |    130     |\n",
            "|     blocks.12.normE.weight    |    130     |\n",
            "|      blocks.12.normE.bias     |    130     |\n",
            "|     blocks.12.normF.weight    |    130     |\n",
            "|      blocks.12.normF.bias     |    130     |\n",
            "|      blocks.13.FF.weight      |   16900    |\n",
            "|  blocks.13.MHA.in_proj_weight |   50700    |\n",
            "|   blocks.13.MHA.in_proj_bias  |    390     |\n",
            "| blocks.13.MHA.out_proj.weight |   16900    |\n",
            "|  blocks.13.MHA.out_proj.bias  |    130     |\n",
            "|     blocks.13.ffn.0.weight    |   25350    |\n",
            "|      blocks.13.ffn.0.bias     |    195     |\n",
            "|     blocks.13.ffn.2.weight    |   25350    |\n",
            "|      blocks.13.ffn.2.bias     |    130     |\n",
            "|     blocks.13.normE.weight    |    130     |\n",
            "|      blocks.13.normE.bias     |    130     |\n",
            "|     blocks.13.normF.weight    |    130     |\n",
            "|      blocks.13.normF.bias     |    130     |\n",
            "|      blocks.14.FF.weight      |   16900    |\n",
            "|  blocks.14.MHA.in_proj_weight |   50700    |\n",
            "|   blocks.14.MHA.in_proj_bias  |    390     |\n",
            "| blocks.14.MHA.out_proj.weight |   16900    |\n",
            "|  blocks.14.MHA.out_proj.bias  |    130     |\n",
            "|     blocks.14.ffn.0.weight    |   25350    |\n",
            "|      blocks.14.ffn.0.bias     |    195     |\n",
            "|     blocks.14.ffn.2.weight    |   25350    |\n",
            "|      blocks.14.ffn.2.bias     |    130     |\n",
            "|     blocks.14.normE.weight    |    130     |\n",
            "|      blocks.14.normE.bias     |    130     |\n",
            "|     blocks.14.normF.weight    |    130     |\n",
            "|      blocks.14.normF.bias     |    130     |\n",
            "|      blocks.15.FF.weight      |   16900    |\n",
            "|  blocks.15.MHA.in_proj_weight |   50700    |\n",
            "|   blocks.15.MHA.in_proj_bias  |    390     |\n",
            "| blocks.15.MHA.out_proj.weight |   16900    |\n",
            "|  blocks.15.MHA.out_proj.bias  |    130     |\n",
            "|     blocks.15.ffn.0.weight    |   25350    |\n",
            "|      blocks.15.ffn.0.bias     |    195     |\n",
            "|     blocks.15.ffn.2.weight    |   25350    |\n",
            "|      blocks.15.ffn.2.bias     |    130     |\n",
            "|     blocks.15.normE.weight    |    130     |\n",
            "|      blocks.15.normE.bias     |    130     |\n",
            "|     blocks.15.normF.weight    |    130     |\n",
            "|      blocks.15.normF.bias     |    130     |\n",
            "|      blocks.16.FF.weight      |   16900    |\n",
            "|  blocks.16.MHA.in_proj_weight |   50700    |\n",
            "|   blocks.16.MHA.in_proj_bias  |    390     |\n",
            "| blocks.16.MHA.out_proj.weight |   16900    |\n",
            "|  blocks.16.MHA.out_proj.bias  |    130     |\n",
            "|     blocks.16.ffn.0.weight    |   25350    |\n",
            "|      blocks.16.ffn.0.bias     |    195     |\n",
            "|     blocks.16.ffn.2.weight    |   25350    |\n",
            "|      blocks.16.ffn.2.bias     |    130     |\n",
            "|     blocks.16.normE.weight    |    130     |\n",
            "|      blocks.16.normE.bias     |    130     |\n",
            "|     blocks.16.normF.weight    |    130     |\n",
            "|      blocks.16.normF.bias     |    130     |\n",
            "|      blocks.17.FF.weight      |   16900    |\n",
            "|  blocks.17.MHA.in_proj_weight |   50700    |\n",
            "|   blocks.17.MHA.in_proj_bias  |    390     |\n",
            "| blocks.17.MHA.out_proj.weight |   16900    |\n",
            "|  blocks.17.MHA.out_proj.bias  |    130     |\n",
            "|     blocks.17.ffn.0.weight    |   25350    |\n",
            "|      blocks.17.ffn.0.bias     |    195     |\n",
            "|     blocks.17.ffn.2.weight    |   25350    |\n",
            "|      blocks.17.ffn.2.bias     |    130     |\n",
            "|     blocks.17.normE.weight    |    130     |\n",
            "|      blocks.17.normE.bias     |    130     |\n",
            "|     blocks.17.normF.weight    |    130     |\n",
            "|      blocks.17.normF.bias     |    130     |\n",
            "|      blocks.18.FF.weight      |   16900    |\n",
            "|  blocks.18.MHA.in_proj_weight |   50700    |\n",
            "|   blocks.18.MHA.in_proj_bias  |    390     |\n",
            "| blocks.18.MHA.out_proj.weight |   16900    |\n",
            "|  blocks.18.MHA.out_proj.bias  |    130     |\n",
            "|     blocks.18.ffn.0.weight    |   25350    |\n",
            "|      blocks.18.ffn.0.bias     |    195     |\n",
            "|     blocks.18.ffn.2.weight    |   25350    |\n",
            "|      blocks.18.ffn.2.bias     |    130     |\n",
            "|     blocks.18.normE.weight    |    130     |\n",
            "|      blocks.18.normE.bias     |    130     |\n",
            "|     blocks.18.normF.weight    |    130     |\n",
            "|      blocks.18.normF.bias     |    130     |\n",
            "|      blocks.19.FF.weight      |   16900    |\n",
            "|  blocks.19.MHA.in_proj_weight |   50700    |\n",
            "|   blocks.19.MHA.in_proj_bias  |    390     |\n",
            "| blocks.19.MHA.out_proj.weight |   16900    |\n",
            "|  blocks.19.MHA.out_proj.bias  |    130     |\n",
            "|     blocks.19.ffn.0.weight    |   25350    |\n",
            "|      blocks.19.ffn.0.bias     |    195     |\n",
            "|     blocks.19.ffn.2.weight    |   25350    |\n",
            "|      blocks.19.ffn.2.bias     |    130     |\n",
            "|     blocks.19.normE.weight    |    130     |\n",
            "|      blocks.19.normE.bias     |    130     |\n",
            "|     blocks.19.normF.weight    |    130     |\n",
            "|      blocks.19.normF.bias     |    130     |\n",
            "|      blocks.20.FF.weight      |   16900    |\n",
            "|  blocks.20.MHA.in_proj_weight |   50700    |\n",
            "|   blocks.20.MHA.in_proj_bias  |    390     |\n",
            "| blocks.20.MHA.out_proj.weight |   16900    |\n",
            "|  blocks.20.MHA.out_proj.bias  |    130     |\n",
            "|     blocks.20.ffn.0.weight    |   25350    |\n",
            "|      blocks.20.ffn.0.bias     |    195     |\n",
            "|     blocks.20.ffn.2.weight    |   25350    |\n",
            "|      blocks.20.ffn.2.bias     |    130     |\n",
            "|     blocks.20.normE.weight    |    130     |\n",
            "|      blocks.20.normE.bias     |    130     |\n",
            "|     blocks.20.normF.weight    |    130     |\n",
            "|      blocks.20.normF.bias     |    130     |\n",
            "|      blocks.21.FF.weight      |   16900    |\n",
            "|  blocks.21.MHA.in_proj_weight |   50700    |\n",
            "|   blocks.21.MHA.in_proj_bias  |    390     |\n",
            "| blocks.21.MHA.out_proj.weight |   16900    |\n",
            "|  blocks.21.MHA.out_proj.bias  |    130     |\n",
            "|     blocks.21.ffn.0.weight    |   25350    |\n",
            "|      blocks.21.ffn.0.bias     |    195     |\n",
            "|     blocks.21.ffn.2.weight    |   25350    |\n",
            "|      blocks.21.ffn.2.bias     |    130     |\n",
            "|     blocks.21.normE.weight    |    130     |\n",
            "|      blocks.21.normE.bias     |    130     |\n",
            "|     blocks.21.normF.weight    |    130     |\n",
            "|      blocks.21.normF.bias     |    130     |\n",
            "|      blocks.22.FF.weight      |   16900    |\n",
            "|  blocks.22.MHA.in_proj_weight |   50700    |\n",
            "|   blocks.22.MHA.in_proj_bias  |    390     |\n",
            "| blocks.22.MHA.out_proj.weight |   16900    |\n",
            "|  blocks.22.MHA.out_proj.bias  |    130     |\n",
            "|     blocks.22.ffn.0.weight    |   25350    |\n",
            "|      blocks.22.ffn.0.bias     |    195     |\n",
            "|     blocks.22.ffn.2.weight    |   25350    |\n",
            "|      blocks.22.ffn.2.bias     |    130     |\n",
            "|     blocks.22.normE.weight    |    130     |\n",
            "|      blocks.22.normE.bias     |    130     |\n",
            "|     blocks.22.normF.weight    |    130     |\n",
            "|      blocks.22.normF.bias     |    130     |\n",
            "|      blocks.23.FF.weight      |   16900    |\n",
            "|  blocks.23.MHA.in_proj_weight |   50700    |\n",
            "|   blocks.23.MHA.in_proj_bias  |    390     |\n",
            "| blocks.23.MHA.out_proj.weight |   16900    |\n",
            "|  blocks.23.MHA.out_proj.bias  |    130     |\n",
            "|     blocks.23.ffn.0.weight    |   25350    |\n",
            "|      blocks.23.ffn.0.bias     |    195     |\n",
            "|     blocks.23.ffn.2.weight    |   25350    |\n",
            "|      blocks.23.ffn.2.bias     |    130     |\n",
            "|     blocks.23.normE.weight    |    130     |\n",
            "|      blocks.23.normE.bias     |    130     |\n",
            "|     blocks.23.normF.weight    |    130     |\n",
            "|      blocks.23.normF.bias     |    130     |\n",
            "|      blocks.24.FF.weight      |   16900    |\n",
            "|  blocks.24.MHA.in_proj_weight |   50700    |\n",
            "|   blocks.24.MHA.in_proj_bias  |    390     |\n",
            "| blocks.24.MHA.out_proj.weight |   16900    |\n",
            "|  blocks.24.MHA.out_proj.bias  |    130     |\n",
            "|     blocks.24.ffn.0.weight    |   25350    |\n",
            "|      blocks.24.ffn.0.bias     |    195     |\n",
            "|     blocks.24.ffn.2.weight    |   25350    |\n",
            "|      blocks.24.ffn.2.bias     |    130     |\n",
            "|     blocks.24.normE.weight    |    130     |\n",
            "|      blocks.24.normE.bias     |    130     |\n",
            "|     blocks.24.normF.weight    |    130     |\n",
            "|      blocks.24.normF.bias     |    130     |\n",
            "|      blocks.25.FF.weight      |   16900    |\n",
            "|  blocks.25.MHA.in_proj_weight |   50700    |\n",
            "|   blocks.25.MHA.in_proj_bias  |    390     |\n",
            "| blocks.25.MHA.out_proj.weight |   16900    |\n",
            "|  blocks.25.MHA.out_proj.bias  |    130     |\n",
            "|     blocks.25.ffn.0.weight    |   25350    |\n",
            "|      blocks.25.ffn.0.bias     |    195     |\n",
            "|     blocks.25.ffn.2.weight    |   25350    |\n",
            "|      blocks.25.ffn.2.bias     |    130     |\n",
            "|     blocks.25.normE.weight    |    130     |\n",
            "|      blocks.25.normE.bias     |    130     |\n",
            "|     blocks.25.normF.weight    |    130     |\n",
            "|      blocks.25.normF.bias     |    130     |\n",
            "|      blocks.26.FF.weight      |   16900    |\n",
            "|  blocks.26.MHA.in_proj_weight |   50700    |\n",
            "|   blocks.26.MHA.in_proj_bias  |    390     |\n",
            "| blocks.26.MHA.out_proj.weight |   16900    |\n",
            "|  blocks.26.MHA.out_proj.bias  |    130     |\n",
            "|     blocks.26.ffn.0.weight    |   25350    |\n",
            "|      blocks.26.ffn.0.bias     |    195     |\n",
            "|     blocks.26.ffn.2.weight    |   25350    |\n",
            "|      blocks.26.ffn.2.bias     |    130     |\n",
            "|     blocks.26.normE.weight    |    130     |\n",
            "|      blocks.26.normE.bias     |    130     |\n",
            "|     blocks.26.normF.weight    |    130     |\n",
            "|      blocks.26.normF.bias     |    130     |\n",
            "|      blocks.27.FF.weight      |   16900    |\n",
            "|  blocks.27.MHA.in_proj_weight |   50700    |\n",
            "|   blocks.27.MHA.in_proj_bias  |    390     |\n",
            "| blocks.27.MHA.out_proj.weight |   16900    |\n",
            "|  blocks.27.MHA.out_proj.bias  |    130     |\n",
            "|     blocks.27.ffn.0.weight    |   25350    |\n",
            "|      blocks.27.ffn.0.bias     |    195     |\n",
            "|     blocks.27.ffn.2.weight    |   25350    |\n",
            "|      blocks.27.ffn.2.bias     |    130     |\n",
            "|     blocks.27.normE.weight    |    130     |\n",
            "|      blocks.27.normE.bias     |    130     |\n",
            "|     blocks.27.normF.weight    |    130     |\n",
            "|      blocks.27.normF.bias     |    130     |\n",
            "|      blocks.28.FF.weight      |   16900    |\n",
            "|  blocks.28.MHA.in_proj_weight |   50700    |\n",
            "|   blocks.28.MHA.in_proj_bias  |    390     |\n",
            "| blocks.28.MHA.out_proj.weight |   16900    |\n",
            "|  blocks.28.MHA.out_proj.bias  |    130     |\n",
            "|     blocks.28.ffn.0.weight    |   25350    |\n",
            "|      blocks.28.ffn.0.bias     |    195     |\n",
            "|     blocks.28.ffn.2.weight    |   25350    |\n",
            "|      blocks.28.ffn.2.bias     |    130     |\n",
            "|     blocks.28.normE.weight    |    130     |\n",
            "|      blocks.28.normE.bias     |    130     |\n",
            "|     blocks.28.normF.weight    |    130     |\n",
            "|      blocks.28.normF.bias     |    130     |\n",
            "|      blocks.29.FF.weight      |   16900    |\n",
            "|  blocks.29.MHA.in_proj_weight |   50700    |\n",
            "|   blocks.29.MHA.in_proj_bias  |    390     |\n",
            "| blocks.29.MHA.out_proj.weight |   16900    |\n",
            "|  blocks.29.MHA.out_proj.bias  |    130     |\n",
            "|     blocks.29.ffn.0.weight    |   25350    |\n",
            "|      blocks.29.ffn.0.bias     |    195     |\n",
            "|     blocks.29.ffn.2.weight    |   25350    |\n",
            "|      blocks.29.ffn.2.bias     |    130     |\n",
            "|     blocks.29.normE.weight    |    130     |\n",
            "|      blocks.29.normE.bias     |    130     |\n",
            "|     blocks.29.normF.weight    |    130     |\n",
            "|      blocks.29.normF.bias     |    130     |\n",
            "|         linear.weight         |   39000    |\n",
            "|          linear.bias          |     3      |\n",
            "+-------------------------------+------------+\n",
            "Total Trainable Params: 4149473\n"
          ]
        },
        {
          "data": {
            "text/plain": [
              "4149473"
            ]
          },
          "execution_count": 42,
          "metadata": {},
          "output_type": "execute_result"
        }
      ],
      "source": [
        "from prettytable import PrettyTable\n",
        "def count_parameters(model):\n",
        "    table = PrettyTable([\"Modules\", \"Parameters\"])\n",
        "    total_params = 0\n",
        "    for name, parameter in model.named_parameters():\n",
        "        if not parameter.requires_grad: \n",
        "            continue\n",
        "        params = parameter.numel()\n",
        "        table.add_row([name, params])\n",
        "        total_params+=params\n",
        "    print(table)\n",
        "    print(f\"Total Trainable Params: {total_params}\")\n",
        "    return total_params\n",
        "count_parameters(model)"
      ]
    },
    {
      "cell_type": "code",
      "execution_count": null,
      "metadata": {
        "id": "tYK3_OYyz3Tx"
      },
      "outputs": [],
      "source": [
        "from torch.utils.data import DataLoader, TensorDataset\n",
        "train = TensorDataset(x_train, y_train)\n",
        "test =  TensorDataset(x_test, y_test)\n",
        "batch_size = 32\n",
        "train_dataset, test_dataset = DataLoader(train,batch_size=batch_size, shuffle=True),DataLoader(test,batch_size=batch_size, shuffle=True)\n"
      ]
    },
    {
      "cell_type": "code",
      "execution_count": null,
      "metadata": {
        "colab": {
          "base_uri": "https://localhost:8080/"
        },
        "id": "eA-pmAesEK8R",
        "outputId": "7138ec36-0b79-4341-d7e6-3b223304b424"
      },
      "outputs": [
        {
          "data": {
            "text/plain": [
              "Encoder(\n",
              "  (Emb): Embedding(104, 130, padding_idx=0)\n",
              "  (blocks): ModuleList(\n",
              "    (0-29): 30 x EncoderBlock(\n",
              "      (FF): Linear(in_features=130, out_features=130, bias=False)\n",
              "      (MHA): MultiheadAttention(\n",
              "        (out_proj): NonDynamicallyQuantizableLinear(in_features=130, out_features=130, bias=True)\n",
              "      )\n",
              "      (ffn): Sequential(\n",
              "        (0): Linear(in_features=130, out_features=195, bias=True)\n",
              "        (1): ReLU()\n",
              "        (2): Linear(in_features=195, out_features=130, bias=True)\n",
              "      )\n",
              "      (normE): LayerNorm((130,), eps=1e-05, elementwise_affine=True)\n",
              "      (normF): LayerNorm((130,), eps=1e-05, elementwise_affine=True)\n",
              "      (PE): PositionalEncoding(\n",
              "        (dropout): Dropout(p=0.1, inplace=False)\n",
              "      )\n",
              "    )\n",
              "  )\n",
              "  (Flatten): Flatten(start_dim=1, end_dim=-1)\n",
              "  (linear): Linear(in_features=13000, out_features=3, bias=True)\n",
              ")"
            ]
          },
          "execution_count": 70,
          "metadata": {},
          "output_type": "execute_result"
        }
      ],
      "source": [
        "model.to('cuda')"
      ]
    },
    {
      "cell_type": "code",
      "execution_count": null,
      "metadata": {
        "colab": {
          "base_uri": "https://localhost:8080/"
        },
        "id": "gFG4JQN9EI-T",
        "outputId": "68b7c4ed-9057-493a-8322-204a5bb76b46"
      },
      "outputs": [
        {
          "data": {
            "text/plain": [
              "0.23173182373182374"
            ]
          },
          "execution_count": 72,
          "metadata": {},
          "output_type": "execute_result"
        }
      ],
      "source": [
        "def predict(test_dataset,batch_size):\n",
        "    y_pred = []\n",
        "    y_true = []\n",
        "    with torch.no_grad():\n",
        "        for inputs,labels in test_dataset:\n",
        "            inputs = inputs.cuda()\n",
        "            y_pred.append(torch.argmax(model(inputs),axis=1))\n",
        "            y_true.append(labels)\n",
        "        y_pred,y_true = torch.cat(y_pred),torch.cat(y_true)\n",
        "        return f1_score(y_true.cpu(),y_pred.cpu(),average='macro')\n",
        "predict(test_dataset,32)"
      ]
    },
    {
      "cell_type": "code",
      "execution_count": null,
      "metadata": {
        "colab": {
          "base_uri": "https://localhost:8080/"
        },
        "id": "vjab6jUYrWUY",
        "outputId": "859673d5-ae37-4300-9042-dd2117b848bf"
      },
      "outputs": [
        {
          "name": "stdout",
          "output_type": "stream",
          "text": [
            "[--------------------------------------------------------------->.....................................] \n",
            " \n",
            " 1.08 for 0 epoch f1score = 0.23\n"
          ]
        }
      ],
      "source": [
        "from progressbar import progressbar\n",
        "pb = progressbar(1)\n",
        "loss_fn = torch.nn.CrossEntropyLoss()\n",
        "optimizer = torch.optim.Adam(model.parameters(), lr=0.001)\n",
        "device = torch.device(\"cuda\" if torch.cuda.is_available() else \"cpu\")\n",
        "full_loss = 0\n",
        "with torch.autograd.set_detect_anomaly(True):\n",
        "    for epoch in range(10):\n",
        "        score = predict(test_dataset,32)   \n",
        "        for i,(inputs,labels) in enumerate(train_dataset):\n",
        "            optimizer.zero_grad()\n",
        "            inputs = inputs.cuda()\n",
        "            labels = labels.cuda()\n",
        "            outputs = model(inputs)\n",
        "            loss = loss_fn(outputs, labels)\n",
        "            loss.backward()\n",
        "            optimizer.step()\n",
        "            full_loss+=loss.item()\n",
        "            pb.print(i,644,f\"\\n {round(loss.item(),2)} for {epoch} epoch f1score = {round(score,2)}\")"
      ]
    },
    {
      "cell_type": "code",
      "execution_count": null,
      "metadata": {
        "colab": {
          "base_uri": "https://localhost:8080/"
        },
        "id": "T6SeyxuSElbd",
        "outputId": "946f3ffa-66a1-44cb-90fb-8111e3c9c7c3"
      },
      "outputs": [
        {
          "data": {
            "text/plain": [
              "Encoder(\n",
              "  (Emb): Embedding(104, 100, padding_idx=0)\n",
              "  (blocks): ModuleList(\n",
              "    (0-9): 10 x EncoderBlock(\n",
              "      (FF): Linear(in_features=100, out_features=100, bias=False)\n",
              "      (MHA): MultiheadAttention(\n",
              "        (out_proj): NonDynamicallyQuantizableLinear(in_features=100, out_features=100, bias=True)\n",
              "      )\n",
              "      (ffn): Sequential(\n",
              "        (0): Linear(in_features=100, out_features=150, bias=True)\n",
              "        (1): ReLU()\n",
              "        (2): Linear(in_features=150, out_features=100, bias=True)\n",
              "      )\n",
              "      (normE): LayerNorm((100,), eps=1e-05, elementwise_affine=True)\n",
              "      (normF): LayerNorm((100,), eps=1e-05, elementwise_affine=True)\n",
              "    )\n",
              "  )\n",
              "  (Flatten): Flatten(start_dim=1, end_dim=-1)\n",
              "  (linear): Linear(in_features=10000, out_features=3, bias=True)\n",
              ")"
            ]
          },
          "execution_count": 19,
          "metadata": {},
          "output_type": "execute_result"
        }
      ],
      "source": [
        "model.to('cuda')"
      ]
    },
    {
      "cell_type": "code",
      "execution_count": null,
      "metadata": {
        "colab": {
          "base_uri": "https://localhost:8080/"
        },
        "id": "GrF9Z2S8ueOl",
        "outputId": "d9fe97cf-f4f1-456c-ed82-90deaa521142"
      },
      "outputs": [
        {
          "data": {
            "text/plain": [
              "0.2994561417260664"
            ]
          },
          "execution_count": 24,
          "metadata": {},
          "output_type": "execute_result"
        }
      ],
      "source": [
        "def predict(batch_size):\n",
        "    y_pred = []\n",
        "    y_true = []\n",
        "    with torch.no_grad():\n",
        "        for inputs,labels in test_dataset:\n",
        "            inputs = inputs.cuda()\n",
        "            y_pred.append(torch.argmax(model(inputs),axis=1))\n",
        "            y_true.append(labels)\n",
        "        y_pred,y_true = torch.cat(y_pred),torch.cat(y_true)\n",
        "        return f1_score(y_true.cpu(),y_pred.cpu(),average='macro')\n",
        "predict(32)"
      ]
    },
    {
      "cell_type": "code",
      "execution_count": null,
      "metadata": {
        "id": "9Tbc9x6Kzgl8"
      },
      "outputs": [],
      "source": []
    },
    {
      "cell_type": "code",
      "execution_count": null,
      "metadata": {
        "colab": {
          "base_uri": "https://localhost:8080/"
        },
        "id": "nTYzyb0d71oe",
        "outputId": "874088f1-a772-4955-e8e9-4a650b11f6a0"
      },
      "outputs": [
        {
          "data": {
            "text/plain": [
              "0.29993168739944576"
            ]
          },
          "execution_count": 22,
          "metadata": {},
          "output_type": "execute_result"
        }
      ],
      "source": []
    },
    {
      "cell_type": "code",
      "execution_count": null,
      "metadata": {
        "colab": {
          "base_uri": "https://localhost:8080/"
        },
        "id": "TjdVrXnLTFmw",
        "outputId": "de280ad0-4697-420f-f3f0-2fe6b611edb3"
      },
      "outputs": [
        {
          "data": {
            "text/plain": [
              "(tensor([[ 0.8592,  0.3960,  0.3329,  0.5369,  0.4732],\n",
              "         [-1.9554, -0.3758,  0.9111,  0.4702, -1.3886],\n",
              "         [-1.8866, -1.0000,  1.0224,  0.0056,  0.1627]]),\n",
              " tensor([4, 3, 4]),\n",
              " tensor(1.4614))"
            ]
          },
          "execution_count": 94,
          "metadata": {},
          "output_type": "execute_result"
        }
      ],
      "source": [
        "# Example of target with class indices\n",
        "loss = nn.CrossEntropyLoss()\n",
        "input = torch.tensor([[ 0.8592,  0.3960,  0.3329,  0.5369,  0.4732],\n",
        "         [-1.9554, -0.3758,  0.9111,  0.4702, -1.3886],\n",
        "         [-1.8866, -1.0000,  1.0224,  0.0056,  0.1627]])\n",
        "target = torch.tensor([4,3,4])\n",
        "output = loss(input, target)\n",
        "input,target,output"
      ]
    },
    {
      "cell_type": "code",
      "execution_count": null,
      "metadata": {
        "colab": {
          "base_uri": "https://localhost:8080/"
        },
        "id": "DUNB7BHF-NMV",
        "outputId": "6546e918-b237-4b69-bb6c-b098cf4e33ba"
      },
      "outputs": [
        {
          "data": {
            "text/plain": [
              "-4.384077237228478"
            ]
          },
          "execution_count": 95,
          "metadata": {},
          "output_type": "execute_result"
        }
      ],
      "source": [
        "k = 0\n",
        "l = 4,3,4\n",
        "for ind,i in enumerate(torch.nn.functional.softmax(input,dim=1)):\n",
        "    k+=math.log(i[l[ind]])\n",
        "k"
      ]
    },
    {
      "cell_type": "code",
      "execution_count": null,
      "metadata": {
        "colab": {
          "base_uri": "https://localhost:8080/"
        },
        "id": "I91B3cAgly1c",
        "outputId": "fbc04744-4da3-47a3-dae4-0aecc6c83c2f"
      },
      "outputs": [
        {
          "name": "stdout",
          "output_type": "stream",
          "text": [
            "Manually computed loss: tensor(4.3841)\n",
            "Loss using CrossEntropyLoss: tensor(1.4614)\n"
          ]
        }
      ],
      "source": [
        "import torch\n",
        "import torch.nn as nn\n",
        "import math\n",
        "\n",
        "loss = nn.CrossEntropyLoss()\n",
        "\n",
        "# Predicted class scores (logits)\n",
        "input = torch.tensor([[0.8592, 0.3960, 0.3329, 0.5369, 0.4732],\n",
        "                     [-1.9554, -0.3758, 0.9111, 0.4702, -1.3886],\n",
        "                     [-1.8866, -1.0000, 1.0224, 0.0056, 0.1627]])\n",
        "\n",
        "# Target class labels\n",
        "target = torch.tensor([4, 3, 4])\n",
        "\n",
        "# Calculate the softmax probabilities\n",
        "probabilities = torch.softmax(input, dim=1)\n",
        "\n",
        "# Calculate the manually computed loss\n",
        "manually_computed_loss = -torch.log(probabilities[range(len(target)), target]).sum()\n",
        "\n",
        "# Calculate the loss using CrossEntropyLoss\n",
        "output = loss(input, target)\n",
        "\n",
        "print(\"Manually computed loss:\", manually_computed_loss)\n",
        "print(\"Loss using CrossEntropyLoss:\", output)\n"
      ]
    },
    {
      "cell_type": "code",
      "execution_count": null,
      "metadata": {
        "colab": {
          "base_uri": "https://localhost:8080/"
        },
        "id": "Uqvxns-H-0WK",
        "outputId": "ecf9f7cc-6ed4-4bbc-ad04-ecc01e847694"
      },
      "outputs": [
        {
          "data": {
            "text/plain": [
              "tensor([[1, 2, 0, 1, 2, 0],\n",
              "        [3, 0, 5, 3, 0, 5],\n",
              "        [6, 0, 1, 6, 0, 1],\n",
              "        [0, 1, 2, 0, 1, 2]])"
            ]
          },
          "execution_count": 81,
          "metadata": {},
          "output_type": "execute_result"
        }
      ],
      "source": [
        "k = torch.tensor([[\n",
        "    [1,2,0],\n",
        "    [3,0,5],\n",
        "    [6,0,1],\n",
        "    [0,1,2],\n",
        "],\n",
        "[\n",
        "    [1,2,0],\n",
        "    [3,0,5],\n",
        "    [6,0,1],\n",
        "    [0,1,2],\n",
        "]])\n",
        "torch.cat([k[0,:,:],k[1,:,:]],dim=1)"
      ]
    },
    {
      "cell_type": "code",
      "execution_count": null,
      "metadata": {
        "colab": {
          "base_uri": "https://localhost:8080/"
        },
        "id": "pfRHRiS5QcYy",
        "outputId": "e32dbff7-2976-42f2-9e6a-de35ff9699d3"
      },
      "outputs": [
        {
          "data": {
            "text/plain": [
              "torch.Size([4, 3, 3, 3])"
            ]
          },
          "execution_count": 60,
          "metadata": {},
          "output_type": "execute_result"
        }
      ],
      "source": [
        "torch.normal(0,1,size=(4,3,3,3)).masked_fill(k[:,None,None,:]==0,float('-inf')).shape"
      ]
    },
    {
      "cell_type": "code",
      "execution_count": null,
      "metadata": {
        "colab": {
          "base_uri": "https://localhost:8080/"
        },
        "id": "PvzYQdg1QqUr",
        "outputId": "a080420f-1363-4623-812c-32cd4107cf26"
      },
      "outputs": [
        {
          "data": {
            "text/plain": [
              "torch.Size([10, 5, 10, 5])"
            ]
          },
          "execution_count": 61,
          "metadata": {},
          "output_type": "execute_result"
        }
      ],
      "source": [
        "torch.matmul(torch.normal(0,1,size=(10,5,10,10)),torch.normal(0,1,size = (10,5,10,5))).shape"
      ]
    },
    {
      "cell_type": "code",
      "execution_count": null,
      "metadata": {
        "colab": {
          "base_uri": "https://localhost:8080/"
        },
        "id": "eUkw1wHLSQ45",
        "outputId": "01f4f0fb-1967-47cc-91bf-ffcab6e9a98c"
      },
      "outputs": [
        {
          "data": {
            "text/plain": [
              "tensor([[1, 2, 3],\n",
              "        [3, 4, 5]])"
            ]
          },
          "execution_count": 64,
          "metadata": {},
          "output_type": "execute_result"
        }
      ],
      "source": [
        "torch.tensor([[1,2,3],[3,4,5]])"
      ]
    },
    {
      "cell_type": "code",
      "execution_count": null,
      "metadata": {
        "colab": {
          "base_uri": "https://localhost:8080/"
        },
        "id": "Cbl3gyBxT9IP",
        "outputId": "a6930485-770d-4e9b-a284-f42f7055a9fb"
      },
      "outputs": [
        {
          "data": {
            "text/plain": [
              "tensor([[1, 2],\n",
              "        [3, 3],\n",
              "        [4, 5]])"
            ]
          },
          "execution_count": 67,
          "metadata": {},
          "output_type": "execute_result"
        }
      ],
      "source": [
        "torch.tensor([[1,2,3],[3,4,5]]).reshape(3,2)"
      ]
    },
    {
      "cell_type": "code",
      "execution_count": null,
      "metadata": {
        "id": "BHmjmMaaT_Mc"
      },
      "outputs": [],
      "source": [
        "from tensorflow import keras\n",
        "from tensorflow.keras.layers import MultiHeadAttention,LayerNormalization,Dense\n",
        "import tensorflow as tf\n",
        "\n",
        "def encoder_block(input_tensor,emb_dim,num_heads):\n",
        "    q, k, v= Dense(emb_dim)(input_tensor), Dense(emb_dim)(input_tensor), Dense(emb_dim)(input_tensor)\n",
        "    output = MultiHeadAttention(num_heads=num_heads, key_dim=emb_dim)(q,k,v)\n",
        "    output = LayerNormalization()(output)\n",
        "    res = input_tensor+output\n",
        "    output = Dense(emb_dim)(res)\n",
        "    output = output+res\n",
        "    return q,k,v,output\n",
        "input_tensor = tf.keras.layers.Input((5,12))\n",
        "output = input_tensor\n",
        "for i in range(10): \n",
        "    q,k,v, output = encoder_block(output,12,2)\n",
        "\n",
        "model = keras.Model(inputs=input_tensor, outputs=output)"
      ]
    },
    {
      "cell_type": "code",
      "execution_count": null,
      "metadata": {
        "colab": {
          "base_uri": "https://localhost:8080/"
        },
        "id": "te-2lbfqf0Mm",
        "outputId": "5799124b-7de3-4f75-8106-e9e08072a6bf"
      },
      "outputs": [
        {
          "name": "stdout",
          "output_type": "stream",
          "text": [
            "1/1 [==============================] - 2s 2s/step\n"
          ]
        },
        {
          "data": {
            "text/plain": [
              "(10, 5, 12)"
            ]
          },
          "execution_count": 4,
          "metadata": {},
          "output_type": "execute_result"
        }
      ],
      "source": [
        "k = tf.random.normal((10,5,12),0,1)\n",
        "model.predict(k).shapex"
      ]
    },
    {
      "cell_type": "code",
      "execution_count": null,
      "metadata": {
        "colab": {
          "base_uri": "https://localhost:8080/"
        },
        "id": "1NYU68Lgg4cp",
        "outputId": "07d111d7-fb8a-45e6-9186-2b14d817cebe"
      },
      "outputs": [
        {
          "data": {
            "text/plain": [
              "TensorShape([10, 1])"
            ]
          },
          "execution_count": 102,
          "metadata": {},
          "output_type": "execute_result"
        }
      ],
      "source": [
        "import keras\n",
        "keras.layers.Dense(1)(tf.random.normal((10,10,),0,1)).shape"
      ]
    },
    {
      "cell_type": "code",
      "execution_count": null,
      "metadata": {
        "id": "UYmXfxSkhc-T"
      },
      "outputs": [],
      "source": []
    }
  ],
  "metadata": {
    "accelerator": "GPU",
    "colab": {
      "provenance": [],
      "mount_file_id": "1MrIbpGsnvgm5WeVTbsEt1f5ynpBODwOu",
      "authorship_tag": "ABX9TyNE8Z3POZLFkJ7+wWaJgC87",
      "include_colab_link": true
    },
    "kernelspec": {
      "display_name": "Python 3",
      "name": "python3"
    },
    "language_info": {
      "name": "python"
    }
  },
  "nbformat": 4,
  "nbformat_minor": 0
}