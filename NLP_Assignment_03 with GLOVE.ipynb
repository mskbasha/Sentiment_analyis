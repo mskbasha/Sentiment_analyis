{
  "nbformat": 4,
  "nbformat_minor": 0,
  "metadata": {
    "colab": {
      "provenance": []
    },
    "kernelspec": {
      "name": "python3",
      "display_name": "Python 3"
    },
    "language_info": {
      "name": "python"
    },
    "accelerator": "GPU",
    "gpuClass": "standard"
  },
  "cells": [
    {
      "cell_type": "markdown",
      "source": [
        "\n",
        "<h1>NLP Assignment_03</h1>\n",
        "\n",
        "                                                                                                                              >Basha   2211ai03\n",
        "                                                                                                                              >Ashok   2211ai22\n",
        "                                                                                                                              >Sanatan 2211ai24\n",
        "\n"
      ],
      "metadata": {
        "id": "U6vCMkQ-pj5k"
      }
    },
    {
      "cell_type": "markdown",
      "source": [
        "  > Importing Libraries"
      ],
      "metadata": {
        "id": "sfPNEJbjsk6V"
      }
    },
    {
      "cell_type": "code",
      "execution_count": 1,
      "metadata": {
        "id": "euSQ13I0X7aG"
      },
      "outputs": [],
      "source": [
        "import spacy\n",
        "import re\n",
        "import sys\n",
        "import os\n",
        "import pandas as pd\n",
        "import pandas as pd\n",
        "import numpy as np\n",
        "import nltk\n",
        "import numpy as np\n",
        "from matplotlib import pyplot as plt\n",
        "from keras.layers import LSTM,Dense,Flatten\n",
        "from keras.utils import to_categorical\n",
        "from sklearn.model_selection import train_test_split\n",
        "from tensorflow import keras\n",
        "from progressbar import progressbar\n",
        "from nltk.corpus import stopwords\n",
        "pb = progressbar(2)"
      ]
    },
    {
      "cell_type": "markdown",
      "source": [
        "> Extracting Zip files to Locations\n",
        "\n",
        "    > postive data to POS/pos Folder\n",
        "    \n",
        "    > Negetive Data to NEG/neg Folder"
      ],
      "metadata": {
        "id": "Ua299EUksqYv"
      }
    },
    {
      "cell_type": "code",
      "source": [
        "import zipfile\n",
        "\n",
        "pos_zip=\"/content/pos.zip\"\n",
        "\n",
        "neg_zip=\"/content/neg.zip\"\n",
        "\n",
        "with zipfile.ZipFile(pos_zip, 'r') as zip_ref:\n",
        "    \n",
        "    zip_ref.extractall(\"/content/POS\")\n",
        "  \n",
        "with zipfile.ZipFile(neg_zip, 'r') as zip_ref:\n",
        "    \n",
        "    zip_ref.extractall(\"/content/NEG\")\n"
      ],
      "metadata": {
        "id": "wZ4MTSsTgpQC"
      },
      "execution_count": 2,
      "outputs": []
    },
    {
      "cell_type": "markdown",
      "source": [
        "# read_text function takes input folder locations of data\n",
        "\n",
        "\n",
        "```\n",
        "def read_text(folder_locations,max_files_toread): \n",
        "  returns list[list[str],list[int]\n",
        "```\n",
        "\n"
      ],
      "metadata": {
        "id": "1N5aJdPXtVqm"
      }
    },
    {
      "cell_type": "code",
      "source": [
        "\n",
        "def read_text(folder_locations,max_files_toread):\n",
        "    text_data=[]\n",
        "\n",
        "    if type(folder_locations)!=str:\n",
        "\n",
        "        text_file_Locations=[]\n",
        "\n",
        "        for index,location in enumerate(folder_locations):\n",
        "\n",
        "            text_file_Locations.append( [ os.path.join(location,file_name) for file_name in os.listdir(location)][:max_files_toread]  ) \n",
        "\n",
        "    else:\n",
        "\n",
        "        print(\" Folder locations in list or tuple format  \\n\\t ex:[Folder loc1,Folder loc2,Folder loc3]\")\n",
        "\n",
        "        return\n",
        "\n",
        "    class_names = [0 for _ in folder_locations]\n",
        "\n",
        "    present_length = 0\n",
        "\n",
        "    for location_ind,text_file_Location in enumerate(text_file_Locations):\n",
        "\n",
        "        for index,text_file in enumerate(text_file_Location):\n",
        "\n",
        "            pb.print(index,len(text_file_Location))\n",
        "\n",
        "            with open(text_file,'r',encoding='utf-8') as f:\n",
        "\n",
        "                try:\n",
        "\n",
        "                    text_data.append(f.readlines())\n",
        "\n",
        "                except Exception as e:\n",
        "\n",
        "                    print(e,text_file)\n",
        "\n",
        "        class_names[location_ind]=len(text_data)-present_length\n",
        "\n",
        "        present_length = len(text_data)\n",
        "\n",
        "    class_labels=[]\n",
        "\n",
        "    for index,no_of_files_inclass in enumerate(class_names):\n",
        "\n",
        "        class_labels+=[index for number in range(no_of_files_inclass)]\n",
        "\n",
        "    return text_data,class_labels\n",
        "\n",
        "text_data,class_labels = read_text([\"/content/NEG/neg\",\"/content/POS/pos\"],2000)"
      ],
      "metadata": {
        "colab": {
          "base_uri": "https://localhost:8080/"
        },
        "id": "CosIaZVhhqIB",
        "outputId": "9e7f724a-3908-49ad-db16-b4e871847ba8"
      },
      "execution_count": 3,
      "outputs": [
        {
          "output_type": "stream",
          "name": "stdout",
          "text": [
            "[>....................................................................................................] \n",
            " \n"
          ]
        }
      ]
    },
    {
      "cell_type": "code",
      "source": [
        "len(class_labels)"
      ],
      "metadata": {
        "colab": {
          "base_uri": "https://localhost:8080/"
        },
        "id": "2tuXtsefHgR5",
        "outputId": "311ff67d-0733-4383-ddb2-f457efb8546f"
      },
      "execution_count": 4,
      "outputs": [
        {
          "output_type": "execute_result",
          "data": {
            "text/plain": [
              "4000"
            ]
          },
          "metadata": {},
          "execution_count": 4
        }
      ]
    },
    {
      "cell_type": "code",
      "source": [
        "text_data[1],class_labels[1]"
      ],
      "metadata": {
        "colab": {
          "base_uri": "https://localhost:8080/"
        },
        "id": "KsBmg8iYtum5",
        "outputId": "be7d5ed8-92f9-4d70-a2d3-ad72969a3f66"
      },
      "execution_count": 5,
      "outputs": [
        {
          "output_type": "execute_result",
          "data": {
            "text/plain": [
              "(['OK, here it is: \"Nazi mountaineer befriends the Dalai Lama.\" What we do is, first we get a major star with no idea whatsoever how to do a Germanic accent, and we let him flounder around between French, German, American, and British for over 2 hours. Then we concoct a series of wildly improbable events and space them apart very widely, so that the plot inches along almost imperceptibly. But just to make sure the viewer doesn´t fall asleep, we throw in details which are shockingly absurd, such as our hero smoking a cigarette at an altitude of 22,000 feet. Naturally, we must also remember that our target audience does not want to read too many subtitles, so we have every character, even the lowliest peasant in the forbidden closed-off city of Lhasa in 1943, speak perfect English, also with dubious accents. Of course, the trickiest part is how to handle the spiritual and political aspects of the story, so what we do is this: we have the Dalai Lama befriend the now-reformed Nazi because the latter is so good at fiddling with film projectors, radios, antique cars, and any other devices with represent the freedom of the capitalist west. In return, our hero learns from his young protegé a kind of vague, undefined Buddhism which is never really brought out or treated in a serious fashion. We also have lots of scenes with the hero flaunting all the marks of respects and protocol which the rest of the Tibetan society accords the Dalai Lama, even as we pretend that the hero has deep and profound reverence for these people and their spiritual leader. In other words, we just expect the audience to believe that this guy is now a Buddhist, sort of, in his own way, even though we ourselves don´t seem to know what his transformation entails or how far we want it to go. And last but not least, we hang a statistic onto the end of the film about how appallingly the Chinese have treated the Tibetans (which is certainly true), thus opening ourselves up to charges that we have made a \"political\" movie, even though it is nothing of the sort. So, zat ist my idea. Vat do you zink? Can ve make zis movie?'],\n",
              " 0)"
            ]
          },
          "metadata": {},
          "execution_count": 5
        }
      ]
    },
    {
      "cell_type": "markdown",
      "source": [
        ">Removing HTML tags from text data"
      ],
      "metadata": {
        "id": "PePJErkat6CM"
      }
    },
    {
      "cell_type": "code",
      "source": [
        "regex = re.compile(r'<[^>]+>')\n",
        "\n",
        "def remove_html(string):\n",
        "\n",
        "    return regex.sub(' ', string)\n",
        "    \n",
        "text_data=[remove_html(text[0]) for text in text_data]"
      ],
      "metadata": {
        "id": "DPDnc89-h3hY"
      },
      "execution_count": 6,
      "outputs": []
    },
    {
      "cell_type": "code",
      "source": [
        "text_data[0]"
      ],
      "metadata": {
        "colab": {
          "base_uri": "https://localhost:8080/",
          "height": 54
        },
        "id": "w3SyboIciPIi",
        "outputId": "19acd965-fb1d-4aac-dcc1-4fbcef755230"
      },
      "execution_count": 7,
      "outputs": [
        {
          "output_type": "execute_result",
          "data": {
            "text/plain": [
              "\"The direction struck me as poor man's Ingemar Bergman. The inaudible dialogue was annoying. The somber stoicism that all characters except Banderas' showed made me think they were drugged. I think the director ruined it for me.\""
            ],
            "application/vnd.google.colaboratory.intrinsic+json": {
              "type": "string"
            }
          },
          "metadata": {},
          "execution_count": 7
        }
      ]
    },
    {
      "cell_type": "markdown",
      "source": [
        "# Data tokenizer"
      ],
      "metadata": {
        "id": "c2nJiOp1uI3L"
      }
    },
    {
      "cell_type": "code",
      "source": [
        "nltk.download('punkt')"
      ],
      "metadata": {
        "colab": {
          "base_uri": "https://localhost:8080/"
        },
        "id": "moXB4JZSR-85",
        "outputId": "fcaf6791-ee4f-4a1d-a9a1-83b9f0941636"
      },
      "execution_count": 8,
      "outputs": [
        {
          "output_type": "stream",
          "name": "stderr",
          "text": [
            "[nltk_data] Downloading package punkt to /root/nltk_data...\n",
            "[nltk_data]   Package punkt is already up-to-date!\n"
          ]
        },
        {
          "output_type": "execute_result",
          "data": {
            "text/plain": [
              "True"
            ]
          },
          "metadata": {},
          "execution_count": 8
        }
      ]
    },
    {
      "cell_type": "code",
      "source": [
        "nltk.download('stopwords')\n",
        "stop_words = set(stopwords.words('english'))\n",
        "def tokenize(texts):\n",
        "    tokenized_texts=[]\n",
        "    for text in texts:\n",
        "      tokens = nltk.word_tokenize(text)\n",
        "      filtered_tokens = [token for token in tokens if token.lower() not in stop_words]\n",
        "      tokenized_texts.append(filtered_tokens)\n",
        "    return tokenized_texts"
      ],
      "metadata": {
        "id": "UgHzNdcRiQ2q",
        "colab": {
          "base_uri": "https://localhost:8080/"
        },
        "outputId": "726d7d05-5ca8-41e8-cab4-1569578df7c6"
      },
      "execution_count": 9,
      "outputs": [
        {
          "output_type": "stream",
          "name": "stderr",
          "text": [
            "[nltk_data] Downloading package stopwords to /root/nltk_data...\n",
            "[nltk_data]   Package stopwords is already up-to-date!\n"
          ]
        }
      ]
    },
    {
      "cell_type": "code",
      "source": [
        "tokenized_texts = tokenize( text_data)"
      ],
      "metadata": {
        "id": "754dY3bAiZkA"
      },
      "execution_count": 10,
      "outputs": []
    },
    {
      "cell_type": "markdown",
      "source": [
        "# Downloading GLOVE existing database"
      ],
      "metadata": {
        "id": "FK8k1BgJuKz5"
      }
    },
    {
      "cell_type": "code",
      "source": [
        "import locale\n",
        "def getpreferredencoding(do_setlocale = True):\n",
        "    return \"UTF-8\"\n",
        "locale.getpreferredencoding = getpreferredencoding"
      ],
      "metadata": {
        "id": "ZnIrpNyCB3Ys"
      },
      "execution_count": 11,
      "outputs": []
    },
    {
      "cell_type": "code",
      "source": [
        "!wget --no-check-certificate \\\n",
        "     http://nlp.stanford.edu/data/glove.6B.zip \\\n",
        "     -O /tmp/glove.6B.zip"
      ],
      "metadata": {
        "id": "Ewel6pgiDyy3",
        "colab": {
          "base_uri": "https://localhost:8080/"
        },
        "outputId": "739093e1-fc1c-4cf2-fc85-b107d425bd03"
      },
      "execution_count": 12,
      "outputs": [
        {
          "output_type": "stream",
          "name": "stdout",
          "text": [
            "--2023-04-12 16:31:31--  http://nlp.stanford.edu/data/glove.6B.zip\n",
            "Resolving nlp.stanford.edu (nlp.stanford.edu)... 171.64.67.140\n",
            "Connecting to nlp.stanford.edu (nlp.stanford.edu)|171.64.67.140|:80... connected.\n",
            "HTTP request sent, awaiting response... 302 Found\n",
            "Location: https://nlp.stanford.edu/data/glove.6B.zip [following]\n",
            "--2023-04-12 16:31:31--  https://nlp.stanford.edu/data/glove.6B.zip\n",
            "Connecting to nlp.stanford.edu (nlp.stanford.edu)|171.64.67.140|:443... connected.\n",
            "HTTP request sent, awaiting response... 301 Moved Permanently\n",
            "Location: https://downloads.cs.stanford.edu/nlp/data/glove.6B.zip [following]\n",
            "--2023-04-12 16:31:31--  https://downloads.cs.stanford.edu/nlp/data/glove.6B.zip\n",
            "Resolving downloads.cs.stanford.edu (downloads.cs.stanford.edu)... 171.64.64.22\n",
            "Connecting to downloads.cs.stanford.edu (downloads.cs.stanford.edu)|171.64.64.22|:443... connected.\n",
            "HTTP request sent, awaiting response... 200 OK\n",
            "Length: 862182613 (822M) [application/zip]\n",
            "Saving to: ‘/tmp/glove.6B.zip’\n",
            "\n",
            "/tmp/glove.6B.zip   100%[===================>] 822.24M  5.01MB/s    in 2m 39s  \n",
            "\n",
            "2023-04-12 16:34:11 (5.16 MB/s) - ‘/tmp/glove.6B.zip’ saved [862182613/862182613]\n",
            "\n"
          ]
        }
      ]
    },
    {
      "cell_type": "code",
      "source": [
        "import os\n",
        "import zipfile\n",
        "with zipfile.ZipFile('/tmp/glove.6B.zip', 'r') as zip_ref:\n",
        "    zip_ref.extractall('/tmp/glove')"
      ],
      "metadata": {
        "id": "eyAUPgy6A1kF"
      },
      "execution_count": 13,
      "outputs": []
    },
    {
      "cell_type": "code",
      "source": [
        "import numpy as np\n",
        "embeddings_index = {}\n",
        "f = open('/tmp/glove/glove.6B.100d.txt',encoding='utf-8')\n",
        "for line in f:\n",
        "    values = line.split()\n",
        "    word = values[0]\n",
        "    coefs = np.asarray(values[1:], dtype='float32')\n",
        "    embeddings_index[word] = coefs\n",
        "f.close()\n",
        "\n",
        "print('Found %s word vectors.' % len(embeddings_index))"
      ],
      "metadata": {
        "colab": {
          "base_uri": "https://localhost:8080/"
        },
        "id": "Rc2oURnIA3TW",
        "outputId": "04235bfe-abb5-4e21-fc8c-a8b45ce3fbe0"
      },
      "execution_count": 14,
      "outputs": [
        {
          "output_type": "stream",
          "name": "stdout",
          "text": [
            "Found 400000 word vectors.\n"
          ]
        }
      ]
    },
    {
      "cell_type": "code",
      "source": [],
      "metadata": {
        "id": "SixyepYtA5id"
      },
      "execution_count": 14,
      "outputs": []
    },
    {
      "cell_type": "code",
      "source": [
        "def freqent_tokens( text_data, frequency=5 ):\n",
        "\n",
        "    counter={}\n",
        "\n",
        "    for text in text_data:\n",
        "\n",
        "        for token in text:\n",
        "\n",
        "            if token in counter:\n",
        "\n",
        "                counter[token]+=1\n",
        "\n",
        "            else:\n",
        "\n",
        "                counter[token]=1\n",
        "\n",
        "    freq_tokens=[]\n",
        "\n",
        "    for i in counter.items():\n",
        "      \n",
        "      if i[1]>frequency:\n",
        "\n",
        "        freq_tokens.append(i[0])\n",
        "\n",
        "\n",
        "    return freq_tokens\n",
        "\n",
        "# freq_tokens = freqent_tokens(tokenized_texts,frequency=300)\n",
        "\n",
        "# f\" Most frequent Tokens length  {len(freq_tokens)}\""
      ],
      "metadata": {
        "id": "51n20TxgiZxY"
      },
      "execution_count": 15,
      "outputs": []
    },
    {
      "cell_type": "code",
      "source": [
        "tokenized_texts[1][:10]"
      ],
      "metadata": {
        "colab": {
          "base_uri": "https://localhost:8080/"
        },
        "id": "MluY2oUpievy",
        "outputId": "23e5a7e8-3823-459c-eee1-697af6703422"
      },
      "execution_count": 16,
      "outputs": [
        {
          "output_type": "execute_result",
          "data": {
            "text/plain": [
              "['OK',\n",
              " ',',\n",
              " ':',\n",
              " '``',\n",
              " 'Nazi',\n",
              " 'mountaineer',\n",
              " 'befriends',\n",
              " 'Dalai',\n",
              " 'Lama',\n",
              " '.']"
            ]
          },
          "metadata": {},
          "execution_count": 16
        }
      ]
    },
    {
      "cell_type": "markdown",
      "source": [
        "# Padding sequences"
      ],
      "metadata": {
        "id": "Xf58kYYeuN9y"
      }
    },
    {
      "cell_type": "code",
      "source": [
        "def Pad_sequences(sequences):\n",
        "    avg_len=0\n",
        "\n",
        "    for text in sequences:\n",
        "\n",
        "        avg_len+=len(text)\n",
        "\n",
        "    avg_len=int((avg_len)/len(tokenized_texts))*2\n",
        "\n",
        "    for text_ind,text in enumerate(sequences):\n",
        "\n",
        "        if len(text)>=avg_len:\n",
        "\n",
        "            sequences[text_ind]=text[:avg_len]\n",
        "\n",
        "        else:\n",
        "\n",
        "            for i in range(avg_len-len(text)):\n",
        "              \n",
        "              sequences[text_ind].append('PAD')\n",
        "              \n",
        "Pad_sequences(tokenized_texts)"
      ],
      "metadata": {
        "id": "fjZGgiWtihVF"
      },
      "execution_count": 17,
      "outputs": []
    },
    {
      "cell_type": "code",
      "source": [
        "embeddings_index['unk']"
      ],
      "metadata": {
        "colab": {
          "base_uri": "https://localhost:8080/"
        },
        "id": "B0TP7LyREkgO",
        "outputId": "76f3cda6-f276-44ec-89da-390f78bf4e3b"
      },
      "execution_count": 18,
      "outputs": [
        {
          "output_type": "execute_result",
          "data": {
            "text/plain": [
              "array([ 0.027166 , -0.1762   , -0.19623  ,  0.33527  ,  0.062392 ,\n",
              "       -0.29748  ,  0.46416  , -0.13271  ,  0.38312  , -0.37872  ,\n",
              "        0.53709  , -0.071442 , -0.15837  ,  0.049163 , -0.2225   ,\n",
              "        0.33305  ,  0.11272  , -0.10672  ,  0.48584  , -0.19743  ,\n",
              "       -0.8179   , -0.43915  , -0.68904  , -0.23316  ,  0.082357 ,\n",
              "        0.49117  , -0.08154  ,  0.10273  ,  0.39784  ,  0.68379  ,\n",
              "       -0.072532 , -0.26836  ,  0.52545  , -0.14456  , -0.3563   ,\n",
              "       -0.19699  ,  0.28968  , -0.71389  ,  0.10056  ,  0.41272  ,\n",
              "        0.52239  , -0.26027  ,  0.016722 ,  0.54869  ,  0.076753 ,\n",
              "        0.010193 , -0.11065  ,  0.47543  , -0.20591  ,  0.11673  ,\n",
              "       -0.096665 ,  0.13824  , -0.16024  , -0.43239  ,  0.23957  ,\n",
              "        0.21804  ,  0.48378  ,  0.27944  , -0.74636  , -0.60598  ,\n",
              "       -0.37709  ,  0.28384  , -0.1613   , -0.0017167,  0.35972  ,\n",
              "        0.091564 , -0.070139 , -0.9614   , -0.25841  ,  0.33928  ,\n",
              "        0.44946  , -0.1805   ,  0.051543 ,  0.26107  ,  0.16685  ,\n",
              "        0.72182  , -0.25338  , -0.685    ,  0.31886  , -0.28397  ,\n",
              "        0.1987   , -0.55063  ,  0.10243  , -0.81482  ,  0.48636  ,\n",
              "        0.19379  , -0.12213  , -0.09981  ,  0.56565  ,  0.35586  ,\n",
              "       -0.035299 ,  0.14357  ,  0.25993  , -0.33945  ,  0.47758  ,\n",
              "        0.010572 , -0.15973  , -0.37226  , -0.28782  , -0.015834 ],\n",
              "      dtype=float32)"
            ]
          },
          "metadata": {},
          "execution_count": 18
        }
      ]
    },
    {
      "cell_type": "markdown",
      "source": [
        "# converting words to one hot coding vectors"
      ],
      "metadata": {
        "id": "HVGyE-RWuPwh"
      }
    },
    {
      "cell_type": "code",
      "source": [
        "def one_hot_coding(tokenized_texts):\n",
        "    \n",
        "    # token_to_number={x:to_categorical(ind,num_classes=len(freq_tokens)+1,dtype='uint8') for ind,x in enumerate(freq_tokens)}\n",
        "\n",
        "    # token_to_number['unk']=np.array([0 for x in range(len(freq_tokens))]+[1])\n",
        "\n",
        "    for text in tokenized_texts:\n",
        "\n",
        "      for token_ind,token in enumerate(text):\n",
        "\n",
        "        if token in embeddings_index:\n",
        "\n",
        "          text[token_ind]=embeddings_index[token]\n",
        "\n",
        "        else:\n",
        "\n",
        "          text[token_ind]=embeddings_index['unk']\n",
        "      \n",
        "one_hot_coding(tokenized_texts)"
      ],
      "metadata": {
        "id": "f6k6w1mQiix9"
      },
      "execution_count": 19,
      "outputs": []
    },
    {
      "cell_type": "code",
      "source": [
        "X = np.array(tokenized_texts)"
      ],
      "metadata": {
        "id": "wMK3FzZqikDK"
      },
      "execution_count": 20,
      "outputs": []
    },
    {
      "cell_type": "code",
      "source": [
        "Data_set_1=X"
      ],
      "metadata": {
        "id": "qkQnpSvhi7C7"
      },
      "execution_count": 21,
      "outputs": []
    },
    {
      "cell_type": "markdown",
      "source": [
        "# Reading tweets Dataset"
      ],
      "metadata": {
        "id": "Kur2UHu0uVNK"
      }
    },
    {
      "cell_type": "code",
      "source": [
        "X.shape"
      ],
      "metadata": {
        "colab": {
          "base_uri": "https://localhost:8080/"
        },
        "id": "Eb15xyo3EzwG",
        "outputId": "dab17890-61fe-4f7d-c036-8dbf4018422c"
      },
      "execution_count": 22,
      "outputs": [
        {
          "output_type": "execute_result",
          "data": {
            "text/plain": [
              "(4000, 306, 100)"
            ]
          },
          "metadata": {},
          "execution_count": 22
        }
      ]
    },
    {
      "cell_type": "code",
      "source": [
        "data2=pd.read_csv(\"/content/2013semeval_train.csv\")"
      ],
      "metadata": {
        "id": "KUpoR_PUi7wH"
      },
      "execution_count": 23,
      "outputs": []
    },
    {
      "cell_type": "code",
      "source": [
        "data2.tweet"
      ],
      "metadata": {
        "colab": {
          "base_uri": "https://localhost:8080/"
        },
        "id": "AohCr-VrjOev",
        "outputId": "2a9906c4-5f44-496b-863a-607bfd2eba51"
      },
      "execution_count": 24,
      "outputs": [
        {
          "output_type": "execute_result",
          "data": {
            "text/plain": [
              "0       Gas by my house hit $3.39!!!! I\\u2019m going t...\n",
              "1       Theo Walcott is still shit\\u002c watch Rafa an...\n",
              "2       its not that I\\u2019m a GSP fan\\u002c i just h...\n",
              "3       Iranian general says Israel\\u2019s Iron Dome c...\n",
              "4       Tehran\\u002c Mon Amour: Obama Tried to Establi...\n",
              "                              ...                        \n",
              "9679    RT @MNFootNg It's monday and Monday Night Foot...\n",
              "9680    All I know is the road for that Lomardi start ...\n",
              "9681    \"All Blue and White fam, we r meeting at Golde...\n",
              "9682    @DariusButler28   Have a great game agaist Tam...\n",
              "9683    \"I'm pisseeedddd that I missed Kid Cudi's show...\n",
              "Name: tweet, Length: 9684, dtype: object"
            ]
          },
          "metadata": {},
          "execution_count": 24
        }
      ]
    },
    {
      "cell_type": "markdown",
      "source": [
        "#Cleaning unicodes out of text"
      ],
      "metadata": {
        "id": "kRYd3apTuZzM"
      }
    },
    {
      "cell_type": "code",
      "source": [
        "unicode_escape_regex = re.compile(r'\\\\u([0-9a-fA-F]{4})')\n",
        "\n",
        "def convert_escape_sequence(match):\n",
        "    return chr(int(match.group(1), 16))\n",
        "\n",
        "result = unicode_escape_regex.sub(convert_escape_sequence, data2.tweet[1])\n",
        "def change_string(string):\n",
        "    return unicode_escape_regex.sub(convert_escape_sequence,string)\n",
        "print(result)"
      ],
      "metadata": {
        "colab": {
          "base_uri": "https://localhost:8080/"
        },
        "id": "9b0iJZpxjP0X",
        "outputId": "e98928b2-00c7-4b46-831d-d78c96ff985e"
      },
      "execution_count": 25,
      "outputs": [
        {
          "output_type": "stream",
          "name": "stdout",
          "text": [
            "Theo Walcott is still shit, watch Rafa and Johnny deal with him on Saturday.\n"
          ]
        }
      ]
    },
    {
      "cell_type": "code",
      "source": [
        "data2.tweet=data2.tweet.apply(change_string)"
      ],
      "metadata": {
        "id": "n9Y48ciGjYwa"
      },
      "execution_count": 26,
      "outputs": []
    },
    {
      "cell_type": "markdown",
      "source": [
        "#Tokenizing"
      ],
      "metadata": {
        "id": "8W9zGsS3ufFh"
      }
    },
    {
      "cell_type": "code",
      "source": [
        "tokenized_texts = tokenize( data2.tweet )"
      ],
      "metadata": {
        "id": "KZwrR5WzjdKT"
      },
      "execution_count": 27,
      "outputs": []
    },
    {
      "cell_type": "markdown",
      "source": [
        "#Calculating freq tokens"
      ],
      "metadata": {
        "id": "9LHKwQa6ugrL"
      }
    },
    {
      "cell_type": "code",
      "source": [
        "freq_tokens = freqent_tokens(tokenized_texts,frequency=200)\n",
        "\n",
        "f\" Most frequent Tokens length  {len(freq_tokens)}\""
      ],
      "metadata": {
        "colab": {
          "base_uri": "https://localhost:8080/",
          "height": 36
        },
        "id": "AKOaBEOAjiOL",
        "outputId": "dee46e14-3309-4eb4-a737-be2003e16db3"
      },
      "execution_count": 28,
      "outputs": [
        {
          "output_type": "execute_result",
          "data": {
            "text/plain": [
              "' Most frequent Tokens length  60'"
            ],
            "application/vnd.google.colaboratory.intrinsic+json": {
              "type": "string"
            }
          },
          "metadata": {},
          "execution_count": 28
        }
      ]
    },
    {
      "cell_type": "markdown",
      "source": [
        "#Padding and converting to one_hot_coding"
      ],
      "metadata": {
        "id": "N--u8wxCuipX"
      }
    },
    {
      "cell_type": "code",
      "source": [
        "Pad_sequences(tokenized_texts)      \n",
        "one_hot_coding(tokenized_texts)"
      ],
      "metadata": {
        "id": "DUndeWE7kQZb"
      },
      "execution_count": 29,
      "outputs": []
    },
    {
      "cell_type": "code",
      "source": [
        "X = np.array(tokenized_texts,dtype='uint8')"
      ],
      "metadata": {
        "id": "ZT1M3wlbkXyc"
      },
      "execution_count": 30,
      "outputs": []
    },
    {
      "cell_type": "code",
      "source": [
        "Data_set_2=X"
      ],
      "metadata": {
        "id": "CyGp276gkaHP"
      },
      "execution_count": 31,
      "outputs": []
    },
    {
      "cell_type": "code",
      "source": [
        "Data_set_1.shape,Data_set_2.shape"
      ],
      "metadata": {
        "colab": {
          "base_uri": "https://localhost:8080/"
        },
        "id": "3dKxFaHakczR",
        "outputId": "9cbc2737-4f31-4dec-8230-052d52d1ddd7"
      },
      "execution_count": 32,
      "outputs": [
        {
          "output_type": "execute_result",
          "data": {
            "text/plain": [
              "((4000, 306, 100), (9684, 34, 100))"
            ]
          },
          "metadata": {},
          "execution_count": 32
        }
      ]
    },
    {
      "cell_type": "markdown",
      "source": [
        "# Convertin dataset_1 labels to numpy array"
      ],
      "metadata": {
        "id": "c7rJgmZau-Na"
      }
    },
    {
      "cell_type": "code",
      "source": [
        "Data_set_1_labels=np.array(class_labels)"
      ],
      "metadata": {
        "id": "f89gxYI9kgWM"
      },
      "execution_count": 33,
      "outputs": []
    },
    {
      "cell_type": "markdown",
      "source": [
        "#Converting dataset_2 labels to numpy array"
      ],
      "metadata": {
        "id": "inYDQOPFvBvn"
      }
    },
    {
      "cell_type": "code",
      "source": [
        "unique_labels={x:ind for ind,x in enumerate(data2.label.unique())}"
      ],
      "metadata": {
        "id": "nPVDGvItkrDi"
      },
      "execution_count": 34,
      "outputs": []
    },
    {
      "cell_type": "code",
      "source": [
        "data2.label = data2.label.apply(lambda x:unique_labels[x])"
      ],
      "metadata": {
        "id": "3DdFGnBkk2M9"
      },
      "execution_count": 35,
      "outputs": []
    },
    {
      "cell_type": "code",
      "source": [
        "Data_set_2_labels = data2.label.values"
      ],
      "metadata": {
        "id": "GtOEYGbnk_KP"
      },
      "execution_count": 36,
      "outputs": []
    },
    {
      "cell_type": "markdown",
      "source": [
        "#Final Data "
      ],
      "metadata": {
        "id": "sDAjUxi9lOXu"
      }
    },
    {
      "cell_type": "code",
      "source": [
        "Data_set_1.shape,Data_set_1_labels.shape,Data_set_2.shape,Data_set_2_labels.shape"
      ],
      "metadata": {
        "colab": {
          "base_uri": "https://localhost:8080/"
        },
        "id": "BHSp07IXlMtt",
        "outputId": "e917b321-39c5-490b-abdf-2d7e8cfabb3f"
      },
      "execution_count": 37,
      "outputs": [
        {
          "output_type": "execute_result",
          "data": {
            "text/plain": [
              "((4000, 306, 100), (4000,), (9684, 34, 100), (9684,))"
            ]
          },
          "metadata": {},
          "execution_count": 37
        }
      ]
    },
    {
      "cell_type": "markdown",
      "source": [
        "# Recurrent Neural Network Models"
      ],
      "metadata": {
        "id": "E9N8m3admHrw"
      }
    },
    {
      "cell_type": "code",
      "source": [
        "model_1_RNN=keras.Sequential([\n",
        "    LSTM(500,input_shape=Data_set_1.shape[1:]),\n",
        "    Dense(2,activation='sigmoid')\n",
        "])\n",
        "model_1_RNN.compile(loss='sparse_categorical_crossentropy',optimizer='adam',metrics=['accuracy'])\n",
        "\n",
        "model_2_RNN=keras.Sequential([\n",
        "    LSTM(500,input_shape=Data_set_2.shape[1:]),\n",
        "    Dense(3,activation='sigmoid')\n",
        "])\n",
        "model_2_RNN.compile(loss='sparse_categorical_crossentropy',optimizer='adam',metrics=['accuracy'])"
      ],
      "metadata": {
        "id": "Yi6T4VPUlaZl"
      },
      "execution_count": 47,
      "outputs": []
    },
    {
      "cell_type": "code",
      "source": [
        "model_1_RNN.summary()"
      ],
      "metadata": {
        "colab": {
          "base_uri": "https://localhost:8080/"
        },
        "id": "HnrprIGOJ9Bg",
        "outputId": "e6755341-62c1-4735-c7fa-78b27d8a839a"
      },
      "execution_count": 39,
      "outputs": [
        {
          "output_type": "stream",
          "name": "stdout",
          "text": [
            "Model: \"sequential\"\n",
            "_________________________________________________________________\n",
            " Layer (type)                Output Shape              Param #   \n",
            "=================================================================\n",
            " lstm (LSTM)                 (None, 500)               1202000   \n",
            "                                                                 \n",
            " dense (Dense)               (None, 2)                 1002      \n",
            "                                                                 \n",
            "=================================================================\n",
            "Total params: 1,203,002\n",
            "Trainable params: 1,203,002\n",
            "Non-trainable params: 0\n",
            "_________________________________________________________________\n"
          ]
        }
      ]
    },
    {
      "cell_type": "code",
      "source": [
        "from sklearn.model_selection import train_test_split\n",
        "\n",
        "x_train_1, x_test_1, y_train_1, y_test_1 = train_test_split(Data_set_1, Data_set_1_labels, test_size=0.25, random_state=42)\n",
        "x_train_2, x_test_2, y_train_2, y_test_2 = train_test_split(Data_set_2, Data_set_2_labels, test_size=0.25, random_state=42)"
      ],
      "metadata": {
        "id": "SS8xKzienQK4"
      },
      "execution_count": 40,
      "outputs": []
    },
    {
      "cell_type": "code",
      "source": [
        "history_1 = model_1_RNN.fit(x_train_1,y_train_1,epochs=30)"
      ],
      "metadata": {
        "colab": {
          "base_uri": "https://localhost:8080/"
        },
        "id": "54HcLIvwnM89",
        "outputId": "6e0813e3-15d4-467e-9f15-a88407065bce"
      },
      "execution_count": 49,
      "outputs": [
        {
          "output_type": "stream",
          "name": "stdout",
          "text": [
            "Epoch 1/30\n",
            "94/94 [==============================] - 5s 51ms/step - loss: 0.6262 - accuracy: 0.5530\n",
            "Epoch 2/30\n",
            "94/94 [==============================] - 4s 42ms/step - loss: 0.6260 - accuracy: 0.5490\n",
            "Epoch 3/30\n",
            "94/94 [==============================] - 4s 43ms/step - loss: 0.6244 - accuracy: 0.5480\n",
            "Epoch 4/30\n",
            "94/94 [==============================] - 4s 44ms/step - loss: 0.6250 - accuracy: 0.5447\n",
            "Epoch 5/30\n",
            "94/94 [==============================] - 4s 44ms/step - loss: 0.6216 - accuracy: 0.5667\n",
            "Epoch 6/30\n",
            "94/94 [==============================] - 4s 44ms/step - loss: 0.6192 - accuracy: 0.5583\n",
            "Epoch 7/30\n",
            "94/94 [==============================] - 4s 45ms/step - loss: 0.6172 - accuracy: 0.5780\n",
            "Epoch 8/30\n",
            "94/94 [==============================] - 4s 45ms/step - loss: 0.6047 - accuracy: 0.6317\n",
            "Epoch 9/30\n",
            "94/94 [==============================] - 4s 44ms/step - loss: 0.6200 - accuracy: 0.5873\n",
            "Epoch 10/30\n",
            "94/94 [==============================] - 4s 44ms/step - loss: 0.5662 - accuracy: 0.6930\n",
            "Epoch 11/30\n",
            "94/94 [==============================] - 4s 45ms/step - loss: 0.4779 - accuracy: 0.7773\n",
            "Epoch 12/30\n",
            "94/94 [==============================] - 4s 43ms/step - loss: 0.3934 - accuracy: 0.8337\n",
            "Epoch 13/30\n",
            "94/94 [==============================] - 4s 43ms/step - loss: 0.3340 - accuracy: 0.8597\n",
            "Epoch 14/30\n",
            "94/94 [==============================] - 4s 44ms/step - loss: 0.2866 - accuracy: 0.8840\n",
            "Epoch 15/30\n",
            "94/94 [==============================] - 4s 44ms/step - loss: 0.2199 - accuracy: 0.9190\n",
            "Epoch 16/30\n",
            "94/94 [==============================] - 4s 43ms/step - loss: 0.1691 - accuracy: 0.9387\n",
            "Epoch 17/30\n",
            "94/94 [==============================] - 4s 42ms/step - loss: 0.1106 - accuracy: 0.9670\n",
            "Epoch 18/30\n",
            "94/94 [==============================] - 4s 44ms/step - loss: 0.1008 - accuracy: 0.9673\n",
            "Epoch 19/30\n",
            "94/94 [==============================] - 4s 43ms/step - loss: 0.0766 - accuracy: 0.9773\n",
            "Epoch 20/30\n",
            "94/94 [==============================] - 4s 43ms/step - loss: 0.0460 - accuracy: 0.9870\n",
            "Epoch 21/30\n",
            "94/94 [==============================] - 4s 43ms/step - loss: 0.0535 - accuracy: 0.9840\n",
            "Epoch 22/30\n",
            "94/94 [==============================] - 4s 44ms/step - loss: 0.0323 - accuracy: 0.9927\n",
            "Epoch 23/30\n",
            "94/94 [==============================] - 4s 43ms/step - loss: 0.0378 - accuracy: 0.9897\n",
            "Epoch 24/30\n",
            "94/94 [==============================] - 4s 43ms/step - loss: 0.0346 - accuracy: 0.9913\n",
            "Epoch 25/30\n",
            "94/94 [==============================] - 4s 44ms/step - loss: 0.0187 - accuracy: 0.9967\n",
            "Epoch 26/30\n",
            "94/94 [==============================] - 4s 44ms/step - loss: 0.0201 - accuracy: 0.9960\n",
            "Epoch 27/30\n",
            "94/94 [==============================] - 4s 43ms/step - loss: 0.0321 - accuracy: 0.9923\n",
            "Epoch 28/30\n",
            "94/94 [==============================] - 4s 43ms/step - loss: 0.0139 - accuracy: 0.9970\n",
            "Epoch 29/30\n",
            "94/94 [==============================] - 4s 45ms/step - loss: 0.0150 - accuracy: 0.9977\n",
            "Epoch 30/30\n",
            "94/94 [==============================] - 4s 44ms/step - loss: 0.0108 - accuracy: 0.9980\n"
          ]
        }
      ]
    },
    {
      "cell_type": "code",
      "source": [
        "history_2 = model_2_RNN.fit(x_train_2,y_train_2,epochs=20)"
      ],
      "metadata": {
        "colab": {
          "base_uri": "https://localhost:8080/"
        },
        "id": "brdfzqgJn7MH",
        "outputId": "fe141356-614f-42aa-e0d8-ef6750c63f5b"
      },
      "execution_count": 42,
      "outputs": [
        {
          "output_type": "stream",
          "name": "stdout",
          "text": [
            "Epoch 1/20\n",
            "227/227 [==============================] - 4s 7ms/step - loss: 0.9631 - accuracy: 0.5294\n",
            "Epoch 2/20\n",
            "227/227 [==============================] - 2s 8ms/step - loss: 0.8875 - accuracy: 0.5927\n",
            "Epoch 3/20\n",
            "227/227 [==============================] - 2s 8ms/step - loss: 0.8206 - accuracy: 0.6351\n",
            "Epoch 4/20\n",
            "227/227 [==============================] - 2s 8ms/step - loss: 0.7551 - accuracy: 0.6828\n",
            "Epoch 5/20\n",
            "227/227 [==============================] - 2s 7ms/step - loss: 0.6859 - accuracy: 0.7165\n",
            "Epoch 6/20\n",
            "227/227 [==============================] - 2s 7ms/step - loss: 0.6195 - accuracy: 0.7527\n",
            "Epoch 7/20\n",
            "227/227 [==============================] - 2s 7ms/step - loss: 0.5541 - accuracy: 0.7818\n",
            "Epoch 8/20\n",
            "227/227 [==============================] - 2s 7ms/step - loss: 0.4931 - accuracy: 0.8083\n",
            "Epoch 9/20\n",
            "227/227 [==============================] - 2s 7ms/step - loss: 0.4416 - accuracy: 0.8317\n",
            "Epoch 10/20\n",
            "227/227 [==============================] - 2s 7ms/step - loss: 0.3827 - accuracy: 0.8564\n",
            "Epoch 11/20\n",
            "227/227 [==============================] - 2s 8ms/step - loss: 0.3359 - accuracy: 0.8707\n",
            "Epoch 12/20\n",
            "227/227 [==============================] - 2s 8ms/step - loss: 0.2880 - accuracy: 0.8912\n",
            "Epoch 13/20\n",
            "227/227 [==============================] - 2s 8ms/step - loss: 0.2834 - accuracy: 0.8941\n",
            "Epoch 14/20\n",
            "227/227 [==============================] - 2s 7ms/step - loss: 0.2381 - accuracy: 0.9106\n",
            "Epoch 15/20\n",
            "227/227 [==============================] - 2s 7ms/step - loss: 0.1967 - accuracy: 0.9294\n",
            "Epoch 16/20\n",
            "227/227 [==============================] - 2s 7ms/step - loss: 0.1619 - accuracy: 0.9434\n",
            "Epoch 17/20\n",
            "227/227 [==============================] - 2s 7ms/step - loss: 0.1683 - accuracy: 0.9413\n",
            "Epoch 18/20\n",
            "227/227 [==============================] - 2s 7ms/step - loss: 0.1771 - accuracy: 0.9363\n",
            "Epoch 19/20\n",
            "227/227 [==============================] - 2s 7ms/step - loss: 0.1284 - accuracy: 0.9551\n",
            "Epoch 20/20\n",
            "227/227 [==============================] - 2s 8ms/step - loss: 0.1233 - accuracy: 0.9547\n"
          ]
        }
      ]
    },
    {
      "cell_type": "code",
      "source": [
        "from sklearn.metrics import precision_recall_fscore_support\n",
        "y_pred_1=model_1_RNN.predict(x_test_1)\n",
        "scores=precision_recall_fscore_support(np.argmax(y_pred_1,axis=1),y_test_1,average='macro')\n",
        "print(f\"\"\"\\n\\nRNN Model_1 For DataSet1\n",
        "    Precision = {scores[0]}\n",
        "    Recall    = {scores[1]}\n",
        "    f1_score  = {scores[2]}\n",
        "\"\"\")"
      ],
      "metadata": {
        "colab": {
          "base_uri": "https://localhost:8080/"
        },
        "id": "i-Nd4-n1oGS2",
        "outputId": "9312b63b-2f9a-4c18-c5b9-cd4d3e12952c"
      },
      "execution_count": 50,
      "outputs": [
        {
          "output_type": "stream",
          "name": "stdout",
          "text": [
            "32/32 [==============================] - 1s 21ms/step\n",
            "\n",
            "\n",
            "RNN Model_1 For DataSet1\n",
            "    Precision = 0.7792113028417473\n",
            "    Recall    = 0.7786582852844322\n",
            "    f1_score  = 0.7787590686257335\n",
            "\n"
          ]
        }
      ]
    },
    {
      "cell_type": "code",
      "source": [
        "from sklearn.metrics import precision_recall_fscore_support\n",
        "y_pred_2=model_2_RNN.predict(x_test_2)\n",
        "scores=precision_recall_fscore_support(np.argmax(y_pred_2,axis=1),y_test_2,average='macro')\n",
        "print(f\"\"\"\\n\\nRNN Model_2 For DataSet_2\n",
        "    Precision = {scores[0]}\n",
        "    Recall    = {scores[1]}\n",
        "    f1_score  = {scores[2]}\n",
        "\"\"\")"
      ],
      "metadata": {
        "colab": {
          "base_uri": "https://localhost:8080/"
        },
        "id": "j12eX3ADosa3",
        "outputId": "28670f75-701b-4d0f-c0f7-3c53f7a8e965"
      },
      "execution_count": 51,
      "outputs": [
        {
          "output_type": "stream",
          "name": "stdout",
          "text": [
            "76/76 [==============================] - 1s 3ms/step\n",
            "\n",
            "\n",
            "RNN Model_2 For DataSet_2\n",
            "    Precision = 0.3348488756404327\n",
            "    Recall    = 0.3076271734206232\n",
            "    f1_score  = 0.2297515481098211\n",
            "\n"
          ]
        }
      ]
    },
    {
      "cell_type": "code",
      "source": [
        "plt.plot([x for x in range(len(history_1.history['loss']))],history_1.history['loss'],c='r')\n",
        "plt.title(\"Epochs vs loss for dataset _1\")\n",
        "plt.x_label=\"Epochs\"\n",
        "plt.y_label=\"Loss\"\n",
        "plt.show()\n",
        "plt.plot([x for x in range(len(history_1.history['accuracy']))],history_1.history['accuracy'],c='y')\n",
        "plt.title(\"Epochs vs accuracy for dataset _1\")\n",
        "plt.x_label=\"Epochs\"\n",
        "plt.y_label=\"Loss\"\n",
        "plt.show()\n",
        "plt.plot([x for x in range(len(history_2.history['loss']))],history_2.history['loss'],c='r')\n",
        "plt.title(\"Epochs vs loss for dataset _2\")\n",
        "plt.x_label=\"Epochs\"\n",
        "plt.y_label=\"Loss\"\n",
        "plt.show()\n",
        "plt.plot([x for x in range(len(history_2.history['accuracy']))],history_2.history['accuracy'],c='y')\n",
        "plt.title(\"Epochs vs accuracy for dataset _2\")\n",
        "plt.x_label=\"Epochs\"\n",
        "plt.y_label=\"Loss\"\n",
        "plt.show()"
      ],
      "metadata": {
        "colab": {
          "base_uri": "https://localhost:8080/",
          "height": 1000
        },
        "id": "ZvOsKraDyMBF",
        "outputId": "95a39041-518a-4f6b-a9e0-e6fec783887a"
      },
      "execution_count": 52,
      "outputs": [
        {
          "output_type": "display_data",
          "data": {
            "text/plain": [
              "<Figure size 640x480 with 1 Axes>"
            ],
            "image/png": "[encoded data removed]"
          },
          "metadata": {}
        },
        {
          "output_type": "display_data",
          "data": {
            "text/plain": [
              "<Figure size 640x480 with 1 Axes>"
            ],
            "image/png": "[encoded data removed]"
          },
          "metadata": {}
        },
        {
          "output_type": "display_data",
          "data": {
            "text/plain": [
              "<Figure size 640x480 with 1 Axes>"
            ],
            "image/png": "[encoded data removed]"
          },
          "metadata": {}
        },
        {
          "output_type": "display_data",
          "data": {
            "text/plain": [
              "<Figure size 640x480 with 1 Axes>"
            ],
            "image/png": "[encoded data removed]"
          },
          "metadata": {}
        }
      ]
    },
    {
      "cell_type": "markdown",
      "source": [
        "# Feed forward Neural Networks "
      ],
      "metadata": {
        "id": "-ObXz52r0Uz3"
      }
    },
    {
      "cell_type": "markdown",
      "source": [
        "The feed-forward neural network (FFNN) architecture I am proposing has two hidden layers with non-linear activation functions between them. The input layer is connected to the first hidden layer, which has 256 neurons. The first hidden layer is connected to the second hidden layer, which has 128 neurons. Finally, the second hidden layer is connected to the output layer, whose size depends on the number of classes in the problem.\n",
        "\n",
        "Here is a visual representation of the architecture:\n",
        "\n",
        "\n",
        "\n",
        "```\n",
        "Input Layer (Size depends on input data)\n",
        "            |\n",
        "            v\n",
        "Hidden Layer 1 (Size: 256) with Non-linearity\n",
        "            |\n",
        "            v\n",
        "Hidden Layer 2 (Size: 128) with Non-linearity\n",
        "            |\n",
        "            v\n",
        "Output Layer (Size depends on the number of classes)\n",
        "```\n",
        "\n",
        "\n",
        "\n",
        "The choice of non-linearity for this architecture is left open, with some popular choices being the Rectified Linear Unit (ReLU), hyperbolic tangent (tanh), or Gaussian Error Linear Unit (GELU).\n",
        "\n",
        "For binary classification problems, the binary cross-entropy loss function is often used. For multi-class classification problems, the categorical cross-entropy loss function is commonly used.\n",
        "\n",
        "Feed-Forward Neural Networks are useful for several reasons:\n",
        "\n",
        "    They are capable of modeling complex non-linear relationships between inputs and outputs.\n",
        "    They are relatively simple to understand and implement.\n",
        "    They can be trained efficiently on large datasets using techniques like stochastic gradient descent and backpropagation.\n",
        "    They can be applied to a wide range of problems, including classification, regression, and prediction.\n",
        "\n",
        "However, FFNNs are limited in their ability to handle sequential or time-series data, as they do not take into account the temporal relationships between inputs. They are also prone to overfitting if the model is too complex or if the dataset is too small."
      ],
      "metadata": {
        "id": "_xuooh0N0Nsd"
      }
    },
    {
      "cell_type": "code",
      "source": [
        "with open(\"logs for GLOVE model.txt\" , 'w') as f:\n",
        "  for ind,history in enumerate([history_1,history_2]):\n",
        "    for data in ['loss','accuracy']:\n",
        "      for epoch,value in enumerate(history.history[data]):\n",
        "        f.writelines(f\"\"\"For dataset_{ind+1} \n",
        "                        \\t\\t\\t For epoch_{epoch} \\t{data}= {round(value,2)}\\n\"\"\")\n"
      ],
      "metadata": {
        "id": "MvMwabBazIec"
      },
      "execution_count": 46,
      "outputs": []
    },
    {
      "cell_type": "code",
      "source": [],
      "metadata": {
        "id": "a9kFM0sZ70-T"
      },
      "execution_count": 46,
      "outputs": []
    }
  ]
}