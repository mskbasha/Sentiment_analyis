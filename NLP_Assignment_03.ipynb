{
  "nbformat": 4,
  "nbformat_minor": 0,
  "metadata": {
    "colab": {
      "provenance": []
    },
    "kernelspec": {
      "name": "python3",
      "display_name": "Python 3"
    },
    "language_info": {
      "name": "python"
    },
    "accelerator": "GPU",
    "gpuClass": "standard"
  },
  "cells": [
    {
      "cell_type": "markdown",
      "source": [
        "\n",
        "<h1>NLP Assignment_03</h1>\n",
        "\n",
        "                                                                                                                              >Basha   2211ai03\n",
        "                                                                                                                              >Ashok   2211ai22\n",
        "                                                                                                                              >Sanatan 2211ai24\n",
        "\n"
      ],
      "metadata": {
        "id": "U6vCMkQ-pj5k"
      }
    },
    {
      "cell_type": "markdown",
      "source": [
        "  > Importing Libraries"
      ],
      "metadata": {
        "id": "sfPNEJbjsk6V"
      }
    },
    {
      "cell_type": "code",
      "execution_count": 1,
      "metadata": {
        "id": "euSQ13I0X7aG"
      },
      "outputs": [],
      "source": [
        "import spacy\n",
        "import re\n",
        "import sys\n",
        "import os\n",
        "import pandas as pd\n",
        "import numpy as np\n",
        "from matplotlib import pyplot as plt\n",
        "from keras.layers import LSTM,Dense,Flatten\n",
        "from keras.utils import to_categorical\n",
        "from sklearn.model_selection import train_test_split\n",
        "from tensorflow import keras\n",
        "from progressbar import progressbar\n",
        "import pandas as pd\n",
        "import numpy as np\n",
        "pb = progressbar(2)"
      ]
    },
    {
      "cell_type": "markdown",
      "source": [
        "> Extracting Zip files to Locations\n",
        "\n",
        "    > postive data to POS/pos Folder\n",
        "    \n",
        "    > Negetive Data to NEG/neg Folder"
      ],
      "metadata": {
        "id": "Ua299EUksqYv"
      }
    },
    {
      "cell_type": "code",
      "source": [
        "import zipfile\n",
        "\n",
        "pos_zip=\"/content/pos.zip\"\n",
        "\n",
        "neg_zip=\"/content/neg.zip\"\n",
        "\n",
        "\n",
        "with zipfile.ZipFile(pos_zip, 'r') as zip_ref:\n",
        "    \n",
        "    zip_ref.extractall(\"/content/POS\")\n",
        "  \n",
        "with zipfile.ZipFile(neg_zip, 'r') as zip_ref:\n",
        "    \n",
        "    zip_ref.extractall(\"/content/NEG\")\n"
      ],
      "metadata": {
        "id": "wZ4MTSsTgpQC"
      },
      "execution_count": 2,
      "outputs": []
    },
    {
      "cell_type": "markdown",
      "source": [
        "# read_text function takes input folder locations of data\n",
        "\n",
        "\n",
        "```\n",
        "def read_text(folder_locations,max_files_toread): \n",
        "  returns list[list[str],list[int]\n",
        "```\n",
        "\n"
      ],
      "metadata": {
        "id": "1N5aJdPXtVqm"
      }
    },
    {
      "cell_type": "code",
      "source": [
        "\n",
        "def read_text(folder_locations,max_files_toread):\n",
        "    text_data=[]\n",
        "\n",
        "    if type(folder_locations)!=str:\n",
        "\n",
        "        text_file_Locations=[]\n",
        "\n",
        "        for index,location in enumerate(folder_locations):\n",
        "\n",
        "            text_file_Locations.append( [ os.path.join(location,file_name) for file_name in os.listdir(location)][:max_files_toread]  ) \n",
        "\n",
        "    else:\n",
        "\n",
        "        print(\" Folder locations in list or tuple format  \\n\\t ex:[Folder loc1,Folder loc2,Folder loc3]\")\n",
        "\n",
        "        return\n",
        "\n",
        "    class_names = [0 for _ in folder_locations]\n",
        "\n",
        "    present_length = 0\n",
        "\n",
        "    for location_ind,text_file_Location in enumerate(text_file_Locations):\n",
        "\n",
        "        for index,text_file in enumerate(text_file_Location):\n",
        "\n",
        "            pb.print(index,len(text_file_Location))\n",
        "\n",
        "            with open(text_file,'r',encoding='utf-8') as f:\n",
        "\n",
        "                try:\n",
        "\n",
        "                    text_data.append(f.readlines())\n",
        "\n",
        "                except Exception as e:\n",
        "\n",
        "                    print(e,text_file)\n",
        "\n",
        "        class_names[location_ind]=len(text_data)-present_length\n",
        "\n",
        "        present_length = len(text_data)\n",
        "\n",
        "    class_labels=[]\n",
        "\n",
        "    for index,no_of_files_inclass in enumerate(class_names):\n",
        "\n",
        "        class_labels+=[index for number in range(no_of_files_inclass)]\n",
        "\n",
        "    return text_data,class_labels\n",
        "\n",
        "text_data,class_labels = read_text([\"/content/NEG/neg\",\"/content/POS/pos\"],5000)"
      ],
      "metadata": {
        "colab": {
          "base_uri": "https://localhost:8080/"
        },
        "id": "CosIaZVhhqIB",
        "outputId": "91a60fa0-3f17-43fd-e90d-ab60b3938898"
      },
      "execution_count": 3,
      "outputs": [
        {
          "output_type": "stream",
          "name": "stdout",
          "text": [
            "[>....................................................................................................] \n",
            " \n"
          ]
        }
      ]
    },
    {
      "cell_type": "code",
      "source": [
        "text_data[1],class_labels[1]"
      ],
      "metadata": {
        "colab": {
          "base_uri": "https://localhost:8080/"
        },
        "id": "KsBmg8iYtum5",
        "outputId": "6be67f22-0780-4e57-d223-240d7bcd6391"
      },
      "execution_count": 4,
      "outputs": [
        {
          "output_type": "execute_result",
          "data": {
            "text/plain": [
              "(['OK, here it is: \"Nazi mountaineer befriends the Dalai Lama.\" What we do is, first we get a major star with no idea whatsoever how to do a Germanic accent, and we let him flounder around between French, German, American, and British for over 2 hours. Then we concoct a series of wildly improbable events and space them apart very widely, so that the plot inches along almost imperceptibly. But just to make sure the viewer doesn´t fall asleep, we throw in details which are shockingly absurd, such as our hero smoking a cigarette at an altitude of 22,000 feet. Naturally, we must also remember that our target audience does not want to read too many subtitles, so we have every character, even the lowliest peasant in the forbidden closed-off city of Lhasa in 1943, speak perfect English, also with dubious accents. Of course, the trickiest part is how to handle the spiritual and political aspects of the story, so what we do is this: we have the Dalai Lama befriend the now-reformed Nazi because the latter is so good at fiddling with film projectors, radios, antique cars, and any other devices with represent the freedom of the capitalist west. In return, our hero learns from his young protegé a kind of vague, undefined Buddhism which is never really brought out or treated in a serious fashion. We also have lots of scenes with the hero flaunting all the marks of respects and protocol which the rest of the Tibetan society accords the Dalai Lama, even as we pretend that the hero has deep and profound reverence for these people and their spiritual leader. In other words, we just expect the audience to believe that this guy is now a Buddhist, sort of, in his own way, even though we ourselves don´t seem to know what his transformation entails or how far we want it to go. And last but not least, we hang a statistic onto the end of the film about how appallingly the Chinese have treated the Tibetans (which is certainly true), thus opening ourselves up to charges that we have made a \"political\" movie, even though it is nothing of the sort. So, zat ist my idea. Vat do you zink? Can ve make zis movie?'],\n",
              " 0)"
            ]
          },
          "metadata": {},
          "execution_count": 4
        }
      ]
    },
    {
      "cell_type": "markdown",
      "source": [
        ">Removing HTML tags from text data"
      ],
      "metadata": {
        "id": "PePJErkat6CM"
      }
    },
    {
      "cell_type": "code",
      "source": [
        "regex = re.compile(r'<[^>]+>')\n",
        "\n",
        "def remove_html(string):\n",
        "\n",
        "    return regex.sub(' ', string)\n",
        "    \n",
        "text_data=[remove_html(text[0]) for text in text_data]"
      ],
      "metadata": {
        "id": "DPDnc89-h3hY"
      },
      "execution_count": 5,
      "outputs": []
    },
    {
      "cell_type": "code",
      "source": [
        "text_data[0]"
      ],
      "metadata": {
        "colab": {
          "base_uri": "https://localhost:8080/",
          "height": 72
        },
        "id": "w3SyboIciPIi",
        "outputId": "daa05dc2-4179-4bb2-a03a-9252254780cd"
      },
      "execution_count": 6,
      "outputs": [
        {
          "output_type": "execute_result",
          "data": {
            "text/plain": [
              "\"The direction struck me as poor man's Ingemar Bergman. The inaudible dialogue was annoying. The somber stoicism that all characters except Banderas' showed made me think they were drugged. I think the director ruined it for me.\""
            ],
            "application/vnd.google.colaboratory.intrinsic+json": {
              "type": "string"
            }
          },
          "metadata": {},
          "execution_count": 6
        }
      ]
    },
    {
      "cell_type": "markdown",
      "source": [
        "# Data tokenizer"
      ],
      "metadata": {
        "id": "c2nJiOp1uI3L"
      }
    },
    {
      "cell_type": "code",
      "source": [
        "def tokenize(texts):\n",
        "\n",
        "    for text_ind,text in enumerate(texts):\n",
        "\n",
        "        texts[text_ind]=text.lower()\n",
        "        \n",
        "    nlp = spacy.load('en_core_web_sm') \n",
        "    \n",
        "    tokenized_texts = []\n",
        "\n",
        "    for ind,text in enumerate(texts):\n",
        "\n",
        "        pb.print(ind,len(texts))\n",
        "\n",
        "        doc = nlp(text) \n",
        "\n",
        "        tokens = [token.text for token in doc]  \n",
        "\n",
        "        tokenized_texts.append(tokens)\n",
        "        \n",
        "    return tokenized_texts"
      ],
      "metadata": {
        "id": "UgHzNdcRiQ2q"
      },
      "execution_count": 7,
      "outputs": []
    },
    {
      "cell_type": "code",
      "source": [
        "tokenized_texts = tokenize( text_data )"
      ],
      "metadata": {
        "colab": {
          "base_uri": "https://localhost:8080/"
        },
        "id": "754dY3bAiZkA",
        "outputId": "051d5761-fa89-4e49-cd9d-dbc265cc3c3f"
      },
      "execution_count": 8,
      "outputs": [
        {
          "output_type": "stream",
          "name": "stdout",
          "text": [
            "[---------------------------------------------------------------------------------------------------->] \n",
            " \n"
          ]
        }
      ]
    },
    {
      "cell_type": "markdown",
      "source": [
        "# Calculating frequent_tokens"
      ],
      "metadata": {
        "id": "FK8k1BgJuKz5"
      }
    },
    {
      "cell_type": "code",
      "source": [
        "def freqent_tokens( text_data, frequency=5 ):\n",
        "\n",
        "    counter={}\n",
        "\n",
        "    for text in text_data:\n",
        "\n",
        "        for token in text:\n",
        "\n",
        "            if token in counter:\n",
        "\n",
        "                counter[token]+=1\n",
        "\n",
        "            else:\n",
        "\n",
        "                counter[token]=1\n",
        "\n",
        "    freq_tokens=[]\n",
        "\n",
        "    for i in counter.items():\n",
        "      \n",
        "      if i[1]>frequency:\n",
        "\n",
        "        freq_tokens.append(i[0])\n",
        "\n",
        "\n",
        "    return freq_tokens\n",
        "\n",
        "freq_tokens = freqent_tokens(tokenized_texts,frequency=300)\n",
        "\n",
        "f\" Most frequent Tokens length  {len(freq_tokens)}\""
      ],
      "metadata": {
        "colab": {
          "base_uri": "https://localhost:8080/",
          "height": 36
        },
        "id": "51n20TxgiZxY",
        "outputId": "32eca5ed-b2b2-4bb3-ba19-8da32592bd0b"
      },
      "execution_count": 9,
      "outputs": [
        {
          "output_type": "execute_result",
          "data": {
            "text/plain": [
              "' Most frequent Tokens length  830'"
            ],
            "application/vnd.google.colaboratory.intrinsic+json": {
              "type": "string"
            }
          },
          "metadata": {},
          "execution_count": 9
        }
      ]
    },
    {
      "cell_type": "code",
      "source": [
        "tokenized_texts[1][:10]"
      ],
      "metadata": {
        "colab": {
          "base_uri": "https://localhost:8080/"
        },
        "id": "MluY2oUpievy",
        "outputId": "34b9349c-1321-4f7c-b17a-ff0f46c926f5"
      },
      "execution_count": 10,
      "outputs": [
        {
          "output_type": "execute_result",
          "data": {
            "text/plain": [
              "['ok', ',', 'here', 'it', 'is', ':', '\"', 'nazi', 'mountaineer', 'befriends']"
            ]
          },
          "metadata": {},
          "execution_count": 10
        }
      ]
    },
    {
      "cell_type": "markdown",
      "source": [
        "# Padding sequences"
      ],
      "metadata": {
        "id": "Xf58kYYeuN9y"
      }
    },
    {
      "cell_type": "code",
      "source": [
        "def Pad_sequences(sequences):\n",
        "    avg_len=0\n",
        "\n",
        "    for text in sequences:\n",
        "\n",
        "        avg_len+=len(text)\n",
        "\n",
        "    avg_len=int(avg_len/len(tokenized_texts))\n",
        "\n",
        "    for text_ind,text in enumerate(sequences):\n",
        "\n",
        "        if len(text)>=avg_len:\n",
        "\n",
        "            sequences[text_ind]=text[:avg_len]\n",
        "\n",
        "        else:\n",
        "\n",
        "            for i in range(avg_len-len(text)):\n",
        "              \n",
        "              sequences[text_ind].append('PAD')\n",
        "              \n",
        "Pad_sequences(tokenized_texts)"
      ],
      "metadata": {
        "id": "fjZGgiWtihVF"
      },
      "execution_count": 11,
      "outputs": []
    },
    {
      "cell_type": "markdown",
      "source": [
        "# converting words to one hot coding vectors"
      ],
      "metadata": {
        "id": "HVGyE-RWuPwh"
      }
    },
    {
      "cell_type": "code",
      "source": [
        "def one_hot_coding(tokenized_texts):\n",
        "    \n",
        "    token_to_number={x:to_categorical(ind,num_classes=len(freq_tokens)+1,dtype='uint8') for ind,x in enumerate(freq_tokens)}\n",
        "\n",
        "    token_to_number['unk']=np.array([0 for x in range(len(freq_tokens))]+[1])\n",
        "\n",
        "    for text in tokenized_texts:\n",
        "\n",
        "      for token_ind,token in enumerate(text):\n",
        "\n",
        "        if token in token_to_number:\n",
        "\n",
        "          text[token_ind]=token_to_number[token]\n",
        "\n",
        "        else:\n",
        "\n",
        "          text[token_ind]=token_to_number['unk']\n",
        "      \n",
        "one_hot_coding(tokenized_texts)"
      ],
      "metadata": {
        "id": "f6k6w1mQiix9"
      },
      "execution_count": 12,
      "outputs": []
    },
    {
      "cell_type": "code",
      "source": [
        "X = np.array(tokenized_texts,dtype='uint8')"
      ],
      "metadata": {
        "id": "wMK3FzZqikDK"
      },
      "execution_count": 13,
      "outputs": []
    },
    {
      "cell_type": "code",
      "source": [
        "Data_set_1=X"
      ],
      "metadata": {
        "id": "qkQnpSvhi7C7"
      },
      "execution_count": 14,
      "outputs": []
    },
    {
      "cell_type": "markdown",
      "source": [
        "# Reading tweets Dataset"
      ],
      "metadata": {
        "id": "Kur2UHu0uVNK"
      }
    },
    {
      "cell_type": "code",
      "source": [
        "data2=pd.read_csv(\"/content/2013semeval_train.csv\")"
      ],
      "metadata": {
        "id": "KUpoR_PUi7wH"
      },
      "execution_count": 15,
      "outputs": []
    },
    {
      "cell_type": "code",
      "source": [
        "data2.tweet"
      ],
      "metadata": {
        "colab": {
          "base_uri": "https://localhost:8080/"
        },
        "id": "AohCr-VrjOev",
        "outputId": "60421491-4d55-4ae6-9edf-0b4578d7576f"
      },
      "execution_count": 16,
      "outputs": [
        {
          "output_type": "execute_result",
          "data": {
            "text/plain": [
              "0       Gas by my house hit $3.39!!!! I\\u2019m going t...\n",
              "1       Theo Walcott is still shit\\u002c watch Rafa an...\n",
              "2       its not that I\\u2019m a GSP fan\\u002c i just h...\n",
              "3       Iranian general says Israel\\u2019s Iron Dome c...\n",
              "4       Tehran\\u002c Mon Amour: Obama Tried to Establi...\n",
              "                              ...                        \n",
              "9679    RT @MNFootNg It's monday and Monday Night Foot...\n",
              "9680    All I know is the road for that Lomardi start ...\n",
              "9681    \"All Blue and White fam, we r meeting at Golde...\n",
              "9682    @DariusButler28   Have a great game agaist Tam...\n",
              "9683    \"I'm pisseeedddd that I missed Kid Cudi's show...\n",
              "Name: tweet, Length: 9684, dtype: object"
            ]
          },
          "metadata": {},
          "execution_count": 16
        }
      ]
    },
    {
      "cell_type": "markdown",
      "source": [
        "#Cleaning unicodes out of text"
      ],
      "metadata": {
        "id": "kRYd3apTuZzM"
      }
    },
    {
      "cell_type": "code",
      "source": [
        "unicode_escape_regex = re.compile(r'\\\\u([0-9a-fA-F]{4})')\n",
        "\n",
        "def convert_escape_sequence(match):\n",
        "    return chr(int(match.group(1), 16))\n",
        "\n",
        "\n",
        "result = unicode_escape_regex.sub(convert_escape_sequence, data2.tweet[1])\n",
        "def change_string(string):\n",
        "    return unicode_escape_regex.sub(convert_escape_sequence,string)\n",
        "print(result)"
      ],
      "metadata": {
        "colab": {
          "base_uri": "https://localhost:8080/"
        },
        "id": "9b0iJZpxjP0X",
        "outputId": "17cbf025-9237-4432-fd45-c8543cec451e"
      },
      "execution_count": 17,
      "outputs": [
        {
          "output_type": "stream",
          "name": "stdout",
          "text": [
            "Theo Walcott is still shit, watch Rafa and Johnny deal with him on Saturday.\n"
          ]
        }
      ]
    },
    {
      "cell_type": "code",
      "source": [
        "data2.tweet=data2.tweet.apply(change_string)"
      ],
      "metadata": {
        "id": "n9Y48ciGjYwa"
      },
      "execution_count": 18,
      "outputs": []
    },
    {
      "cell_type": "markdown",
      "source": [
        "#Tokenizing"
      ],
      "metadata": {
        "id": "8W9zGsS3ufFh"
      }
    },
    {
      "cell_type": "code",
      "source": [
        "tokenized_texts = tokenize( data2.tweet )"
      ],
      "metadata": {
        "colab": {
          "base_uri": "https://localhost:8080/"
        },
        "id": "KZwrR5WzjdKT",
        "outputId": "87159577-7e12-468c-9bff-6a3524df6d8c"
      },
      "execution_count": 19,
      "outputs": [
        {
          "output_type": "stream",
          "name": "stdout",
          "text": [
            "[--------------------------------------------------------------------------------------------------->.] \n",
            " \n"
          ]
        }
      ]
    },
    {
      "cell_type": "markdown",
      "source": [
        "#Calculating freq tokens"
      ],
      "metadata": {
        "id": "9LHKwQa6ugrL"
      }
    },
    {
      "cell_type": "code",
      "source": [
        "freq_tokens = freqent_tokens(tokenized_texts,frequency=200)\n",
        "\n",
        "f\" Most frequent Tokens length  {len(freq_tokens)}\""
      ],
      "metadata": {
        "colab": {
          "base_uri": "https://localhost:8080/",
          "height": 36
        },
        "id": "AKOaBEOAjiOL",
        "outputId": "0da598fd-410b-47c2-faba-29dae82ed965"
      },
      "execution_count": 20,
      "outputs": [
        {
          "output_type": "execute_result",
          "data": {
            "text/plain": [
              "' Most frequent Tokens length  138'"
            ],
            "application/vnd.google.colaboratory.intrinsic+json": {
              "type": "string"
            }
          },
          "metadata": {},
          "execution_count": 20
        }
      ]
    },
    {
      "cell_type": "markdown",
      "source": [
        "#Padding and converting to one_hot_coding"
      ],
      "metadata": {
        "id": "N--u8wxCuipX"
      }
    },
    {
      "cell_type": "code",
      "source": [
        "Pad_sequences(tokenized_texts)      \n",
        "one_hot_coding(tokenized_texts)"
      ],
      "metadata": {
        "id": "DUndeWE7kQZb"
      },
      "execution_count": 21,
      "outputs": []
    },
    {
      "cell_type": "code",
      "source": [
        "X = np.array(tokenized_texts,dtype='uint8')"
      ],
      "metadata": {
        "id": "ZT1M3wlbkXyc"
      },
      "execution_count": 22,
      "outputs": []
    },
    {
      "cell_type": "code",
      "source": [
        "Data_set_2=X"
      ],
      "metadata": {
        "id": "CyGp276gkaHP"
      },
      "execution_count": 23,
      "outputs": []
    },
    {
      "cell_type": "code",
      "source": [
        "Data_set_1.shape,Data_set_2.shape"
      ],
      "metadata": {
        "colab": {
          "base_uri": "https://localhost:8080/"
        },
        "id": "3dKxFaHakczR",
        "outputId": "ff6f7ebb-0730-4c73-a714-5c306b3c9ddf"
      },
      "execution_count": 24,
      "outputs": [
        {
          "output_type": "execute_result",
          "data": {
            "text/plain": [
              "((10000, 273, 831), (9684, 23, 139))"
            ]
          },
          "metadata": {},
          "execution_count": 24
        }
      ]
    },
    {
      "cell_type": "markdown",
      "source": [
        "# Convertin dataset_1 labels to numpy array"
      ],
      "metadata": {
        "id": "c7rJgmZau-Na"
      }
    },
    {
      "cell_type": "code",
      "source": [
        "Data_set_1_labels=np.array(class_labels)"
      ],
      "metadata": {
        "id": "f89gxYI9kgWM"
      },
      "execution_count": 25,
      "outputs": []
    },
    {
      "cell_type": "markdown",
      "source": [
        "#Converting dataset_2 labels to numpy array"
      ],
      "metadata": {
        "id": "inYDQOPFvBvn"
      }
    },
    {
      "cell_type": "code",
      "source": [
        "unique_labels={x:ind for ind,x in enumerate(data2.label.unique())}"
      ],
      "metadata": {
        "id": "nPVDGvItkrDi"
      },
      "execution_count": 26,
      "outputs": []
    },
    {
      "cell_type": "code",
      "source": [
        "data2.label = data2.label.apply(lambda x:unique_labels[x])"
      ],
      "metadata": {
        "id": "3DdFGnBkk2M9"
      },
      "execution_count": 27,
      "outputs": []
    },
    {
      "cell_type": "code",
      "source": [
        "Data_set_2_labels = data2.label.values"
      ],
      "metadata": {
        "id": "GtOEYGbnk_KP"
      },
      "execution_count": 28,
      "outputs": []
    },
    {
      "cell_type": "markdown",
      "source": [
        "#Final Data "
      ],
      "metadata": {
        "id": "sDAjUxi9lOXu"
      }
    },
    {
      "cell_type": "code",
      "source": [
        "Data_set_1.shape,Data_set_1_labels.shape,Data_set_2.shape,Data_set_2_labels.shape"
      ],
      "metadata": {
        "colab": {
          "base_uri": "https://localhost:8080/"
        },
        "id": "BHSp07IXlMtt",
        "outputId": "aaa1297c-16f3-4476-f070-4cfc10b50f5b"
      },
      "execution_count": 29,
      "outputs": [
        {
          "output_type": "execute_result",
          "data": {
            "text/plain": [
              "((10000, 273, 831), (10000,), (9684, 23, 139), (9684,))"
            ]
          },
          "metadata": {},
          "execution_count": 29
        }
      ]
    },
    {
      "cell_type": "markdown",
      "source": [
        "# Recurrent Neural Network Models"
      ],
      "metadata": {
        "id": "E9N8m3admHrw"
      }
    },
    {
      "cell_type": "code",
      "source": [
        "model_1_RNN=keras.Sequential([\n",
        "    LSTM(256,input_shape=Data_set_1.shape[1:]),\n",
        "    Dense(2,activation='sigmoid')\n",
        "])\n",
        "model_1_RNN.compile(loss='sparse_categorical_crossentropy',optimizer='adam',metrics=['accuracy'])\n",
        "\n",
        "model_2_RNN=keras.Sequential([\n",
        "    LSTM(256,input_shape=Data_set_2.shape[1:]),\n",
        "    Dense(3,activation='sigmoid')\n",
        "])\n",
        "model_2_RNN.compile(loss='sparse_categorical_crossentropy',optimizer='adam',metrics=['accuracy'])"
      ],
      "metadata": {
        "id": "Yi6T4VPUlaZl"
      },
      "execution_count": 30,
      "outputs": []
    },
    {
      "cell_type": "code",
      "source": [
        "from sklearn.model_selection import train_test_split\n",
        "\n",
        "x_train_1, x_test_1, y_train_1, y_test_1 = train_test_split(Data_set_1, Data_set_1_labels, test_size=0.25, random_state=42)\n",
        "x_train_2, x_test_2, y_train_2, y_test_2 = train_test_split(Data_set_2, Data_set_2_labels, test_size=0.25, random_state=42)"
      ],
      "metadata": {
        "id": "SS8xKzienQK4"
      },
      "execution_count": 31,
      "outputs": []
    },
    {
      "cell_type": "code",
      "source": [
        "history_1 = model_1_RNN.fit(x_train_1,y_train_1,epochs=10)"
      ],
      "metadata": {
        "colab": {
          "base_uri": "https://localhost:8080/"
        },
        "id": "54HcLIvwnM89",
        "outputId": "c36dc71f-dbc8-4183-fb2e-aa3a674c55bf"
      },
      "execution_count": 32,
      "outputs": [
        {
          "output_type": "stream",
          "name": "stdout",
          "text": [
            "Epoch 1/10\n",
            "235/235 [==============================] - 10s 28ms/step - loss: 0.6947 - accuracy: 0.4992\n",
            "Epoch 2/10\n",
            "235/235 [==============================] - 6s 26ms/step - loss: 0.6929 - accuracy: 0.5467\n",
            "Epoch 3/10\n",
            "235/235 [==============================] - 6s 27ms/step - loss: 0.6721 - accuracy: 0.5683\n",
            "Epoch 4/10\n",
            "235/235 [==============================] - 6s 26ms/step - loss: 0.6744 - accuracy: 0.5656\n",
            "Epoch 5/10\n",
            "235/235 [==============================] - 6s 28ms/step - loss: 0.6343 - accuracy: 0.5841\n",
            "Epoch 6/10\n",
            "235/235 [==============================] - 6s 27ms/step - loss: 0.6043 - accuracy: 0.6125\n",
            "Epoch 7/10\n",
            "235/235 [==============================] - 7s 29ms/step - loss: 0.5777 - accuracy: 0.6263\n",
            "Epoch 8/10\n",
            "235/235 [==============================] - 6s 27ms/step - loss: 0.5462 - accuracy: 0.6473\n",
            "Epoch 9/10\n",
            "235/235 [==============================] - 6s 27ms/step - loss: 0.5347 - accuracy: 0.6527\n",
            "Epoch 10/10\n",
            "235/235 [==============================] - 7s 28ms/step - loss: 0.5060 - accuracy: 0.6556\n"
          ]
        }
      ]
    },
    {
      "cell_type": "code",
      "source": [
        "history_2 = model_2_RNN.fit(x_train_2,y_train_2,epochs=10)"
      ],
      "metadata": {
        "colab": {
          "base_uri": "https://localhost:8080/"
        },
        "id": "brdfzqgJn7MH",
        "outputId": "8edfbaf7-6794-439a-ccf9-81a62747d565"
      },
      "execution_count": 33,
      "outputs": [
        {
          "output_type": "stream",
          "name": "stdout",
          "text": [
            "Epoch 1/10\n",
            "227/227 [==============================] - 3s 6ms/step - loss: 0.9625 - accuracy: 0.5275\n",
            "Epoch 2/10\n",
            "227/227 [==============================] - 2s 7ms/step - loss: 0.8952 - accuracy: 0.5882\n",
            "Epoch 3/10\n",
            "227/227 [==============================] - 1s 6ms/step - loss: 0.8716 - accuracy: 0.6025\n",
            "Epoch 4/10\n",
            "227/227 [==============================] - 1s 5ms/step - loss: 0.8621 - accuracy: 0.6082\n",
            "Epoch 5/10\n",
            "227/227 [==============================] - 1s 5ms/step - loss: 0.8493 - accuracy: 0.6115\n",
            "Epoch 6/10\n",
            "227/227 [==============================] - 1s 5ms/step - loss: 0.8339 - accuracy: 0.6211\n",
            "Epoch 7/10\n",
            "227/227 [==============================] - 1s 5ms/step - loss: 0.8242 - accuracy: 0.6193\n",
            "Epoch 8/10\n",
            "227/227 [==============================] - 1s 5ms/step - loss: 0.8220 - accuracy: 0.6263\n",
            "Epoch 9/10\n",
            "227/227 [==============================] - 1s 5ms/step - loss: 0.8047 - accuracy: 0.6404\n",
            "Epoch 10/10\n",
            "227/227 [==============================] - 1s 5ms/step - loss: 0.7830 - accuracy: 0.6475\n"
          ]
        }
      ]
    },
    {
      "cell_type": "code",
      "source": [
        "from sklearn.metrics import precision_recall_fscore_support\n",
        "y_pred_1=model_1_RNN.predict(x_test_1)\n",
        "scores=precision_recall_fscore_support(np.argmax(y_pred_1,axis=1),y_test_1,average='macro')\n",
        "print(f\"\"\"\\n\\nRNN Model_1 For DataSet1\n",
        "    Precision = {scores[0]}\n",
        "    Recall    = {scores[1]}\n",
        "    f1_score  = {scores[2]}\n",
        "\"\"\")"
      ],
      "metadata": {
        "colab": {
          "base_uri": "https://localhost:8080/"
        },
        "id": "i-Nd4-n1oGS2",
        "outputId": "2a50cb18-6eb5-4dc4-e289-5747c53ab261"
      },
      "execution_count": 34,
      "outputs": [
        {
          "output_type": "stream",
          "name": "stdout",
          "text": [
            "79/79 [==============================] - 1s 13ms/step\n",
            "\n",
            "\n",
            "RNN Model_1 For DataSet1\n",
            "    Precision = 0.513189365537869\n",
            "    Recall    = 0.5278461473999495\n",
            "    f1_score  = 0.4361392228507667\n",
            "\n"
          ]
        }
      ]
    },
    {
      "cell_type": "code",
      "source": [
        "from sklearn.metrics import precision_recall_fscore_support\n",
        "y_pred_2=model_2_RNN.predict(x_test_2)\n",
        "scores=precision_recall_fscore_support(np.argmax(y_pred_2,axis=1),y_test_2,average='macro')\n",
        "print(f\"\"\"\\n\\nRNN Model_2 For DataSet_2\n",
        "    Precision = {scores[0]}\n",
        "    Recall    = {scores[1]}\n",
        "    f1_score  = {scores[2]}\n",
        "\"\"\")"
      ],
      "metadata": {
        "colab": {
          "base_uri": "https://localhost:8080/"
        },
        "id": "j12eX3ADosa3",
        "outputId": "634c21a1-2d82-447e-b770-e69bffdbef8d"
      },
      "execution_count": 36,
      "outputs": [
        {
          "output_type": "stream",
          "name": "stdout",
          "text": [
            "76/76 [==============================] - 2s 6ms/step\n",
            "\n",
            "\n",
            "RNN Model_2 For DataSet_2\n",
            "    Precision = 0.4880038046095922\n",
            "    Recall    = 0.5205781582898968\n",
            "    f1_score  = 0.49196638884233307\n",
            "\n"
          ]
        }
      ]
    },
    {
      "cell_type": "code",
      "source": [
        "history_1.history"
      ],
      "metadata": {
        "colab": {
          "base_uri": "https://localhost:8080/"
        },
        "id": "sKWlECcfo74i",
        "outputId": "06b66e09-06ab-43ba-9c76-fb9d7a0dc48b"
      },
      "execution_count": 37,
      "outputs": [
        {
          "output_type": "execute_result",
          "data": {
            "text/plain": [
              "{'loss': [0.6946829557418823,\n",
              "  0.6928868889808655,\n",
              "  0.6720706224441528,\n",
              "  0.6743826270103455,\n",
              "  0.6342559456825256,\n",
              "  0.6043278574943542,\n",
              "  0.5776535272598267,\n",
              "  0.5462218523025513,\n",
              "  0.5346569418907166,\n",
              "  0.5060117840766907],\n",
              " 'accuracy': [0.4991999864578247,\n",
              "  0.54666668176651,\n",
              "  0.5682666897773743,\n",
              "  0.5655999779701233,\n",
              "  0.5841333270072937,\n",
              "  0.6125333309173584,\n",
              "  0.6262666583061218,\n",
              "  0.6473333239555359,\n",
              "  0.6526666879653931,\n",
              "  0.6556000113487244]}"
            ]
          },
          "metadata": {},
          "execution_count": 37
        }
      ]
    },
    {
      "cell_type": "code",
      "source": [
        "plt.plot([x for x in range(10)],history_1.history['loss'],c='r')\n",
        "plt.title(\"Epochs vs loss for dataset _1\")\n",
        "plt.x_label=\"Epochs\"\n",
        "plt.y_label=\"Loss\"\n",
        "plt.show()\n",
        "plt.plot([x for x in range(10)],history_1.history['accuracy'],c='y')\n",
        "plt.title(\"Epochs vs accuracy for dataset _1\")\n",
        "plt.x_label=\"Epochs\"\n",
        "plt.y_label=\"Loss\"\n",
        "plt.show()\n",
        "plt.plot([x for x in range(10)],history_2.history['loss'],c='r')\n",
        "plt.title(\"Epochs vs loss for dataset _2\")\n",
        "plt.x_label=\"Epochs\"\n",
        "plt.y_label=\"Loss\"\n",
        "plt.show()\n",
        "plt.plot([x for x in range(10)],history_2.history['accuracy'],c='y')\n",
        "plt.title(\"Epochs vs accuracy for dataset _2\")\n",
        "plt.x_label=\"Epochs\"\n",
        "plt.y_label=\"Loss\"\n",
        "plt.show()"
      ],
      "metadata": {
        "colab": {
          "base_uri": "https://localhost:8080/",
          "height": 1000
        },
        "id": "ZvOsKraDyMBF",
        "outputId": "5b96687f-590a-4203-8095-fb7d993844f8"
      },
      "execution_count": 38,
      "outputs": [
        {
          "output_type": "display_data",
          "data": {
            "text/plain": [
              "<Figure size 640x480 with 1 Axes>"
            ],
            "image/png": "[encoded data removed]"
          },
          "metadata": {}
        },
        {
          "output_type": "display_data",
          "data": {
            "text/plain": [
              "<Figure size 640x480 with 1 Axes>"
            ],
            "image/png": "[encoded data removed]"
          },
          "metadata": {}
        },
        {
          "output_type": "display_data",
          "data": {
            "text/plain": [
              "<Figure size 640x480 with 1 Axes>"
            ],
            "image/png": "[encoded data removed]"
          },
          "metadata": {}
        },
        {
          "output_type": "display_data",
          "data": {
            "text/plain": [
              "<Figure size 640x480 with 1 Axes>"
            ],
            "image/png": "[encoded data removed]"
          },
          "metadata": {}
        }
      ]
    },
    {
      "cell_type": "markdown",
      "source": [
        "# Feed forward Neural Networks "
      ],
      "metadata": {
        "id": "-ObXz52r0Uz3"
      }
    },
    {
      "cell_type": "markdown",
      "source": [
        "The feed-forward neural network (FFNN) architecture I am proposing has two hidden layers with non-linear activation functions between them. The input layer is connected to the first hidden layer, which has 256 neurons. The first hidden layer is connected to the second hidden layer, which has 128 neurons. Finally, the second hidden layer is connected to the output layer, whose size depends on the number of classes in the problem.\n",
        "\n",
        "Here is a visual representation of the architecture:\n",
        "\n",
        "\n",
        "\n",
        "```\n",
        "Input Layer (Size depends on input data)\n",
        "            |\n",
        "            v\n",
        "Hidden Layer 1 (Size: 256) with Non-linearity\n",
        "            |\n",
        "            v\n",
        "Hidden Layer 2 (Size: 128) with Non-linearity\n",
        "            |\n",
        "            v\n",
        "Output Layer (Size depends on the number of classes)\n",
        "```\n",
        "\n",
        "\n",
        "\n",
        "The choice of non-linearity for this architecture is left open, with some popular choices being the Rectified Linear Unit (ReLU), hyperbolic tangent (tanh), or Gaussian Error Linear Unit (GELU).\n",
        "\n",
        "For binary classification problems, the binary cross-entropy loss function is often used. For multi-class classification problems, the categorical cross-entropy loss function is commonly used.\n",
        "\n",
        "Feed-Forward Neural Networks are useful for several reasons:\n",
        "\n",
        "    They are capable of modeling complex non-linear relationships between inputs and outputs.\n",
        "    They are relatively simple to understand and implement.\n",
        "    They can be trained efficiently on large datasets using techniques like stochastic gradient descent and backpropagation.\n",
        "    They can be applied to a wide range of problems, including classification, regression, and prediction.\n",
        "\n",
        "However, FFNNs are limited in their ability to handle sequential or time-series data, as they do not take into account the temporal relationships between inputs. They are also prone to overfitting if the model is too complex or if the dataset is too small."
      ],
      "metadata": {
        "id": "_xuooh0N0Nsd"
      }
    },
    {
      "cell_type": "code",
      "source": [],
      "metadata": {
        "id": "MvMwabBazIec"
      },
      "execution_count": 38,
      "outputs": []
    }
  ]
}